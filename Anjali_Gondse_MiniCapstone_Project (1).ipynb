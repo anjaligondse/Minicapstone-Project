{
  "nbformat": 4,
  "nbformat_minor": 0,
  "metadata": {
    "colab": {
      "name": "Anjali Gondse_MiniCapstone_Project.ipynb",
      "provenance": [],
      "collapsed_sections": []
    },
    "kernelspec": {
      "name": "python3",
      "display_name": "Python 3"
    },
    "language_info": {
      "name": "python"
    }
  },
  "cells": [
    {
      "cell_type": "markdown",
      "source": [
        "# ***Mini Capstone Project***\n",
        "\n",
        "## ***Data Analysis of a fictional Telco Company*** "
      ],
      "metadata": {
        "id": "hZYugX29KQfa"
      }
    },
    {
      "cell_type": "markdown",
      "source": [
        "## **Introduction**\n",
        "\n",
        "    \n",
        "> This data set contains the data of customers of a fictional telco company that provided home phone and Internet services in California in Quarter 3 of the fiscal year. In this data set there is information about 7043 customers to which this telco company provides home phone and Internet services. In this project we will be analysing data using python. \n",
        "\n",
        "##Description of database and variables used\n",
        "\n",
        "1.  CustomerID - It is a unique ID given for each customer.\n",
        "2.  Count - It is a value used in reporting/dashboarding to sum up the number of customers in a filtered set.\n",
        "3. Country- It indicates the country of the customer’s primary residence.\n",
        "4. State- It is the state of the customer’s primary residence.\n",
        "5. City-  It is city of the customer’s primary residence.\n",
        "6. Zip Code- It is the zip code of the customer’s primary residence.\n",
        "7. Lat Long- Lat long is the combined latitude and longitude of the customer’s primary residence.\n",
        "8. Latitude- It is the latitude of the customer’s primary residence.\n",
        "9. Longitude- It is the longitude of the customer’s primary residence.\n",
        "10. Gender- It denotes customer’s gender  i.e. Male, Female\n",
        "11. Senior Citizen- It indicates if the customer is 65 or older in the format of Yes, No\n",
        "12. Partner- It indicates if the customer has a partner or not in the format Yes, No\n",
        "13. Dependents- It indicates that if the customer lives with any dependents or not. Dependents could be children, parents, grandparents, etc. \n",
        "14. Tenure Months- It indicates the numer of months for which the customer has been with the company by the end of the quarter 3 of the fiscal year. \n",
        "15. Phone Service- It indicates if the customer subscribes to home phone service with the company or not.\n",
        "16. Multiple Lines- It indicates if the customer subscribes to multiple telephone lines with this teleco company or not.\n",
        "17. Internet Service- It indicates if the customer subscribes to Internet service with the company or not and if yes then what kind of service among DSL, Fiber Optic, Cable.\n",
        "18. Online Security- It indicates that if the customer subscribes to an additional online security service provided by the company or not. It is in the format of Yes, No\n",
        "19. Online Backup- It indicates if the customer subscribes to an additional online backup service provided by the company or not.\n",
        "20. Device Protection- It indicates if the customer subscribes to an additional device protection plan for their Internet equipment provided by this teleco company or not.\n",
        "21. Tech Support- It indicates if the customer subscribes to an additional technical support plan from the company which included reduce wait time or not.\n",
        "22. Streaming TV- It indicates if the customer uses their Internet service to stream television programming from a third party provider or not. The company does not charge an additional fee for this streaming service.\n",
        "23. Streaming Movies- It indicates if the customer uses their Internet service to stream movies from a third party provider or not. For this service company does not charge an additional fee.\n",
        "24. Contract- It indicates the customer’s current contract type i.e. Month-to-Month, One Year, Two Year.\n",
        "25. Paperless Billing- It indicates if the customer has chosen paperless billing or not.\n",
        "26. Payment Method- It indicates which payment mode is used by the customer i.e. Bank Withdrawal, Credit Card, Mailed Check.\n",
        "27. Monthly Charge- It indicates the current total monthly charge for all the services from the company to be applied to the customer.\n",
        "28. Total Charges- It indicates the customer’s total charges, calculated to the end of the quarter 3 of the fiscal year.\n",
        "29. Churn Label- If value is\n",
        "\n",
        "  Yes = the customer left the company this quarter.\n",
        "\n",
        "  No = the customer remained with the company. \n",
        "  \n",
        "  It is directly related to Churn Value.\n",
        "30. Churn Value- It is in the binary format. \n",
        "\n",
        "  Where, \n",
        "  \n",
        "  1 = the customer left the company this quarter. \n",
        "  \n",
        "  0 = the customer remained with the company. \n",
        "It is directly related to Churn Label.\n",
        "31. Churn Score-It's value ranges from 0-100 i.e. calculated using the predictive tool IBM SPSS Modeler. This model incorporates multiple factors known to cause churn. The higher the score, the more likely the customer will churn.\n",
        "32. CLTV- It's full form is Customer Lifetime Value. A predicted CLTV is calculated using corporate formulas and existing data. The higher the value, the more valuable the customer. High value customers should be monitored for churn as the are most likely churn.\n",
        "33. Churn Reason- It includes customer’s specific reason for leaving the company. It is directly related to Churn Category.\n"
      ],
      "metadata": {
        "id": "1AnG1RHXMYP9"
      }
    },
    {
      "cell_type": "markdown",
      "source": [
        "## **> Importing necessary libraries**"
      ],
      "metadata": {
        "id": "wSmR8lH3UZR0"
      }
    },
    {
      "cell_type": "code",
      "execution_count": null,
      "metadata": {
        "id": "yJjzIycuKPYM"
      },
      "outputs": [],
      "source": [
        "import numpy as np\n",
        "import pandas as pd\n",
        "import seaborn as sns\n",
        "import matplotlib.pyplot as plt                  #Importing necessary libraries"
      ]
    },
    {
      "cell_type": "markdown",
      "source": [
        "##**Reading Database file**\n"
      ],
      "metadata": {
        "id": "OHIJO-xwUt6m"
      }
    },
    {
      "cell_type": "code",
      "source": [
        "mydata = pd.read_excel(\"Telco_customer_churn.xlsx\")\n",
        "mydata "
      ],
      "metadata": {
        "colab": {
          "base_uri": "https://localhost:8080/",
          "height": 748
        },
        "id": "28_NSAmaU2EJ",
        "outputId": "75b79fc1-2c95-4944-9be5-b3a2b4fb7db4"
      },
      "execution_count": null,
      "outputs": [
        {
          "output_type": "execute_result",
          "data": {
            "text/plain": [
              "      CustomerID  Count        Country       State          City  Zip Code  \\\n",
              "0     3668-QPYBK    1.0  United States  California   Los Angeles   90003.0   \n",
              "1     9237-HQITU    1.0  United States  California   Los Angeles   90005.0   \n",
              "2     9305-CDSKC    1.0  United States  California   Los Angeles   90006.0   \n",
              "3     7892-POOKP    1.0  United States  California   Los Angeles   90010.0   \n",
              "4     0280-XJGEX    1.0  United States  California   Los Angeles   90015.0   \n",
              "...          ...    ...            ...         ...           ...       ...   \n",
              "7038  2569-WGERO    1.0  United States  California       Landers   92285.0   \n",
              "7039  6840-RESVB    1.0  United States  California      Adelanto   92301.0   \n",
              "7040  2234-XADUH    1.0  United States  California         Amboy   92304.0   \n",
              "7041  4801-JZAZL    1.0  United States  California  Angelus Oaks   92305.0   \n",
              "7042  3186-AJIEK    1.0  United States  California  Apple Valley   92308.0   \n",
              "\n",
              "                    Lat Long   Latitude   Longitude  Gender  ...  \\\n",
              "0     33.964131, -118.272783  33.964131 -118.272783    Male  ...   \n",
              "1      34.059281, -118.30742  34.059281 -118.307420  Female  ...   \n",
              "2     34.048013, -118.293953  34.048013 -118.293953  Female  ...   \n",
              "3     34.062125, -118.315709  34.062125 -118.315709  Female  ...   \n",
              "4     34.039224, -118.266293  34.039224 -118.266293    Male  ...   \n",
              "...                      ...        ...         ...     ...  ...   \n",
              "7038  34.341737, -116.539416  34.341737 -116.539416  Female  ...   \n",
              "7039  34.667815, -117.536183  34.667815 -117.536183    Male  ...   \n",
              "7040  34.559882, -115.637164  34.559882 -115.637164  Female  ...   \n",
              "7041     34.1678, -116.86433  34.167800 -116.864330  Female  ...   \n",
              "7042  34.424926, -117.184503  34.424926 -117.184503    Male  ...   \n",
              "\n",
              "            Contract Paperless Billing             Payment Method  \\\n",
              "0     Month-to-month               Yes               Mailed check   \n",
              "1     Month-to-month               Yes           Electronic check   \n",
              "2     Month-to-month               Yes           Electronic check   \n",
              "3     Month-to-month               Yes           Electronic check   \n",
              "4     Month-to-month               Yes  Bank transfer (automatic)   \n",
              "...              ...               ...                        ...   \n",
              "7038        Two year               Yes  Bank transfer (automatic)   \n",
              "7039        One year               Yes               Mailed check   \n",
              "7040        One year               Yes    Credit card (automatic)   \n",
              "7041  Month-to-month               Yes           Electronic check   \n",
              "7042        Two year               Yes  Bank transfer (automatic)   \n",
              "\n",
              "      Monthly Charges Total Charges Churn Label Churn Value Churn Score  \\\n",
              "0               53.85        108.15         Yes         1.0        86.0   \n",
              "1               70.70        151.65         Yes         1.0        67.0   \n",
              "2               99.65         820.5         Yes         1.0        86.0   \n",
              "3              104.80       3046.05         Yes         1.0        84.0   \n",
              "4              103.70        5036.3         Yes         1.0        89.0   \n",
              "...               ...           ...         ...         ...         ...   \n",
              "7038            21.15        1419.4          No         0.0        45.0   \n",
              "7039            84.80        1990.5          No         0.0        59.0   \n",
              "7040           103.20        7362.9          No         0.0        71.0   \n",
              "7041            29.60        346.45          No         0.0        59.0   \n",
              "7042           105.65        6844.5          No         0.0        38.0   \n",
              "\n",
              "        CLTV                   Churn Reason  \n",
              "0     3239.0   Competitor made better offer  \n",
              "1     2701.0                          Moved  \n",
              "2     5372.0                          Moved  \n",
              "3     5003.0                          Moved  \n",
              "4     5340.0  Competitor had better devices  \n",
              "...      ...                            ...  \n",
              "7038  5306.0                            NaN  \n",
              "7039  2140.0                            NaN  \n",
              "7040  5560.0                            NaN  \n",
              "7041  2793.0                            NaN  \n",
              "7042  5097.0                            NaN  \n",
              "\n",
              "[7043 rows x 33 columns]"
            ],
            "text/html": [
              "\n",
              "  <div id=\"df-334ea0ee-c996-4970-92fa-eb3da07608f3\">\n",
              "    <div class=\"colab-df-container\">\n",
              "      <div>\n",
              "<style scoped>\n",
              "    .dataframe tbody tr th:only-of-type {\n",
              "        vertical-align: middle;\n",
              "    }\n",
              "\n",
              "    .dataframe tbody tr th {\n",
              "        vertical-align: top;\n",
              "    }\n",
              "\n",
              "    .dataframe thead th {\n",
              "        text-align: right;\n",
              "    }\n",
              "</style>\n",
              "<table border=\"1\" class=\"dataframe\">\n",
              "  <thead>\n",
              "    <tr style=\"text-align: right;\">\n",
              "      <th></th>\n",
              "      <th>CustomerID</th>\n",
              "      <th>Count</th>\n",
              "      <th>Country</th>\n",
              "      <th>State</th>\n",
              "      <th>City</th>\n",
              "      <th>Zip Code</th>\n",
              "      <th>Lat Long</th>\n",
              "      <th>Latitude</th>\n",
              "      <th>Longitude</th>\n",
              "      <th>Gender</th>\n",
              "      <th>...</th>\n",
              "      <th>Contract</th>\n",
              "      <th>Paperless Billing</th>\n",
              "      <th>Payment Method</th>\n",
              "      <th>Monthly Charges</th>\n",
              "      <th>Total Charges</th>\n",
              "      <th>Churn Label</th>\n",
              "      <th>Churn Value</th>\n",
              "      <th>Churn Score</th>\n",
              "      <th>CLTV</th>\n",
              "      <th>Churn Reason</th>\n",
              "    </tr>\n",
              "  </thead>\n",
              "  <tbody>\n",
              "    <tr>\n",
              "      <th>0</th>\n",
              "      <td>3668-QPYBK</td>\n",
              "      <td>1.0</td>\n",
              "      <td>United States</td>\n",
              "      <td>California</td>\n",
              "      <td>Los Angeles</td>\n",
              "      <td>90003.0</td>\n",
              "      <td>33.964131, -118.272783</td>\n",
              "      <td>33.964131</td>\n",
              "      <td>-118.272783</td>\n",
              "      <td>Male</td>\n",
              "      <td>...</td>\n",
              "      <td>Month-to-month</td>\n",
              "      <td>Yes</td>\n",
              "      <td>Mailed check</td>\n",
              "      <td>53.85</td>\n",
              "      <td>108.15</td>\n",
              "      <td>Yes</td>\n",
              "      <td>1.0</td>\n",
              "      <td>86.0</td>\n",
              "      <td>3239.0</td>\n",
              "      <td>Competitor made better offer</td>\n",
              "    </tr>\n",
              "    <tr>\n",
              "      <th>1</th>\n",
              "      <td>9237-HQITU</td>\n",
              "      <td>1.0</td>\n",
              "      <td>United States</td>\n",
              "      <td>California</td>\n",
              "      <td>Los Angeles</td>\n",
              "      <td>90005.0</td>\n",
              "      <td>34.059281, -118.30742</td>\n",
              "      <td>34.059281</td>\n",
              "      <td>-118.307420</td>\n",
              "      <td>Female</td>\n",
              "      <td>...</td>\n",
              "      <td>Month-to-month</td>\n",
              "      <td>Yes</td>\n",
              "      <td>Electronic check</td>\n",
              "      <td>70.70</td>\n",
              "      <td>151.65</td>\n",
              "      <td>Yes</td>\n",
              "      <td>1.0</td>\n",
              "      <td>67.0</td>\n",
              "      <td>2701.0</td>\n",
              "      <td>Moved</td>\n",
              "    </tr>\n",
              "    <tr>\n",
              "      <th>2</th>\n",
              "      <td>9305-CDSKC</td>\n",
              "      <td>1.0</td>\n",
              "      <td>United States</td>\n",
              "      <td>California</td>\n",
              "      <td>Los Angeles</td>\n",
              "      <td>90006.0</td>\n",
              "      <td>34.048013, -118.293953</td>\n",
              "      <td>34.048013</td>\n",
              "      <td>-118.293953</td>\n",
              "      <td>Female</td>\n",
              "      <td>...</td>\n",
              "      <td>Month-to-month</td>\n",
              "      <td>Yes</td>\n",
              "      <td>Electronic check</td>\n",
              "      <td>99.65</td>\n",
              "      <td>820.5</td>\n",
              "      <td>Yes</td>\n",
              "      <td>1.0</td>\n",
              "      <td>86.0</td>\n",
              "      <td>5372.0</td>\n",
              "      <td>Moved</td>\n",
              "    </tr>\n",
              "    <tr>\n",
              "      <th>3</th>\n",
              "      <td>7892-POOKP</td>\n",
              "      <td>1.0</td>\n",
              "      <td>United States</td>\n",
              "      <td>California</td>\n",
              "      <td>Los Angeles</td>\n",
              "      <td>90010.0</td>\n",
              "      <td>34.062125, -118.315709</td>\n",
              "      <td>34.062125</td>\n",
              "      <td>-118.315709</td>\n",
              "      <td>Female</td>\n",
              "      <td>...</td>\n",
              "      <td>Month-to-month</td>\n",
              "      <td>Yes</td>\n",
              "      <td>Electronic check</td>\n",
              "      <td>104.80</td>\n",
              "      <td>3046.05</td>\n",
              "      <td>Yes</td>\n",
              "      <td>1.0</td>\n",
              "      <td>84.0</td>\n",
              "      <td>5003.0</td>\n",
              "      <td>Moved</td>\n",
              "    </tr>\n",
              "    <tr>\n",
              "      <th>4</th>\n",
              "      <td>0280-XJGEX</td>\n",
              "      <td>1.0</td>\n",
              "      <td>United States</td>\n",
              "      <td>California</td>\n",
              "      <td>Los Angeles</td>\n",
              "      <td>90015.0</td>\n",
              "      <td>34.039224, -118.266293</td>\n",
              "      <td>34.039224</td>\n",
              "      <td>-118.266293</td>\n",
              "      <td>Male</td>\n",
              "      <td>...</td>\n",
              "      <td>Month-to-month</td>\n",
              "      <td>Yes</td>\n",
              "      <td>Bank transfer (automatic)</td>\n",
              "      <td>103.70</td>\n",
              "      <td>5036.3</td>\n",
              "      <td>Yes</td>\n",
              "      <td>1.0</td>\n",
              "      <td>89.0</td>\n",
              "      <td>5340.0</td>\n",
              "      <td>Competitor had better devices</td>\n",
              "    </tr>\n",
              "    <tr>\n",
              "      <th>...</th>\n",
              "      <td>...</td>\n",
              "      <td>...</td>\n",
              "      <td>...</td>\n",
              "      <td>...</td>\n",
              "      <td>...</td>\n",
              "      <td>...</td>\n",
              "      <td>...</td>\n",
              "      <td>...</td>\n",
              "      <td>...</td>\n",
              "      <td>...</td>\n",
              "      <td>...</td>\n",
              "      <td>...</td>\n",
              "      <td>...</td>\n",
              "      <td>...</td>\n",
              "      <td>...</td>\n",
              "      <td>...</td>\n",
              "      <td>...</td>\n",
              "      <td>...</td>\n",
              "      <td>...</td>\n",
              "      <td>...</td>\n",
              "      <td>...</td>\n",
              "    </tr>\n",
              "    <tr>\n",
              "      <th>7038</th>\n",
              "      <td>2569-WGERO</td>\n",
              "      <td>1.0</td>\n",
              "      <td>United States</td>\n",
              "      <td>California</td>\n",
              "      <td>Landers</td>\n",
              "      <td>92285.0</td>\n",
              "      <td>34.341737, -116.539416</td>\n",
              "      <td>34.341737</td>\n",
              "      <td>-116.539416</td>\n",
              "      <td>Female</td>\n",
              "      <td>...</td>\n",
              "      <td>Two year</td>\n",
              "      <td>Yes</td>\n",
              "      <td>Bank transfer (automatic)</td>\n",
              "      <td>21.15</td>\n",
              "      <td>1419.4</td>\n",
              "      <td>No</td>\n",
              "      <td>0.0</td>\n",
              "      <td>45.0</td>\n",
              "      <td>5306.0</td>\n",
              "      <td>NaN</td>\n",
              "    </tr>\n",
              "    <tr>\n",
              "      <th>7039</th>\n",
              "      <td>6840-RESVB</td>\n",
              "      <td>1.0</td>\n",
              "      <td>United States</td>\n",
              "      <td>California</td>\n",
              "      <td>Adelanto</td>\n",
              "      <td>92301.0</td>\n",
              "      <td>34.667815, -117.536183</td>\n",
              "      <td>34.667815</td>\n",
              "      <td>-117.536183</td>\n",
              "      <td>Male</td>\n",
              "      <td>...</td>\n",
              "      <td>One year</td>\n",
              "      <td>Yes</td>\n",
              "      <td>Mailed check</td>\n",
              "      <td>84.80</td>\n",
              "      <td>1990.5</td>\n",
              "      <td>No</td>\n",
              "      <td>0.0</td>\n",
              "      <td>59.0</td>\n",
              "      <td>2140.0</td>\n",
              "      <td>NaN</td>\n",
              "    </tr>\n",
              "    <tr>\n",
              "      <th>7040</th>\n",
              "      <td>2234-XADUH</td>\n",
              "      <td>1.0</td>\n",
              "      <td>United States</td>\n",
              "      <td>California</td>\n",
              "      <td>Amboy</td>\n",
              "      <td>92304.0</td>\n",
              "      <td>34.559882, -115.637164</td>\n",
              "      <td>34.559882</td>\n",
              "      <td>-115.637164</td>\n",
              "      <td>Female</td>\n",
              "      <td>...</td>\n",
              "      <td>One year</td>\n",
              "      <td>Yes</td>\n",
              "      <td>Credit card (automatic)</td>\n",
              "      <td>103.20</td>\n",
              "      <td>7362.9</td>\n",
              "      <td>No</td>\n",
              "      <td>0.0</td>\n",
              "      <td>71.0</td>\n",
              "      <td>5560.0</td>\n",
              "      <td>NaN</td>\n",
              "    </tr>\n",
              "    <tr>\n",
              "      <th>7041</th>\n",
              "      <td>4801-JZAZL</td>\n",
              "      <td>1.0</td>\n",
              "      <td>United States</td>\n",
              "      <td>California</td>\n",
              "      <td>Angelus Oaks</td>\n",
              "      <td>92305.0</td>\n",
              "      <td>34.1678, -116.86433</td>\n",
              "      <td>34.167800</td>\n",
              "      <td>-116.864330</td>\n",
              "      <td>Female</td>\n",
              "      <td>...</td>\n",
              "      <td>Month-to-month</td>\n",
              "      <td>Yes</td>\n",
              "      <td>Electronic check</td>\n",
              "      <td>29.60</td>\n",
              "      <td>346.45</td>\n",
              "      <td>No</td>\n",
              "      <td>0.0</td>\n",
              "      <td>59.0</td>\n",
              "      <td>2793.0</td>\n",
              "      <td>NaN</td>\n",
              "    </tr>\n",
              "    <tr>\n",
              "      <th>7042</th>\n",
              "      <td>3186-AJIEK</td>\n",
              "      <td>1.0</td>\n",
              "      <td>United States</td>\n",
              "      <td>California</td>\n",
              "      <td>Apple Valley</td>\n",
              "      <td>92308.0</td>\n",
              "      <td>34.424926, -117.184503</td>\n",
              "      <td>34.424926</td>\n",
              "      <td>-117.184503</td>\n",
              "      <td>Male</td>\n",
              "      <td>...</td>\n",
              "      <td>Two year</td>\n",
              "      <td>Yes</td>\n",
              "      <td>Bank transfer (automatic)</td>\n",
              "      <td>105.65</td>\n",
              "      <td>6844.5</td>\n",
              "      <td>No</td>\n",
              "      <td>0.0</td>\n",
              "      <td>38.0</td>\n",
              "      <td>5097.0</td>\n",
              "      <td>NaN</td>\n",
              "    </tr>\n",
              "  </tbody>\n",
              "</table>\n",
              "<p>7043 rows × 33 columns</p>\n",
              "</div>\n",
              "      <button class=\"colab-df-convert\" onclick=\"convertToInteractive('df-334ea0ee-c996-4970-92fa-eb3da07608f3')\"\n",
              "              title=\"Convert this dataframe to an interactive table.\"\n",
              "              style=\"display:none;\">\n",
              "        \n",
              "  <svg xmlns=\"http://www.w3.org/2000/svg\" height=\"24px\"viewBox=\"0 0 24 24\"\n",
              "       width=\"24px\">\n",
              "    <path d=\"M0 0h24v24H0V0z\" fill=\"none\"/>\n",
              "    <path d=\"M18.56 5.44l.94 2.06.94-2.06 2.06-.94-2.06-.94-.94-2.06-.94 2.06-2.06.94zm-11 1L8.5 8.5l.94-2.06 2.06-.94-2.06-.94L8.5 2.5l-.94 2.06-2.06.94zm10 10l.94 2.06.94-2.06 2.06-.94-2.06-.94-.94-2.06-.94 2.06-2.06.94z\"/><path d=\"M17.41 7.96l-1.37-1.37c-.4-.4-.92-.59-1.43-.59-.52 0-1.04.2-1.43.59L10.3 9.45l-7.72 7.72c-.78.78-.78 2.05 0 2.83L4 21.41c.39.39.9.59 1.41.59.51 0 1.02-.2 1.41-.59l7.78-7.78 2.81-2.81c.8-.78.8-2.07 0-2.86zM5.41 20L4 18.59l7.72-7.72 1.47 1.35L5.41 20z\"/>\n",
              "  </svg>\n",
              "      </button>\n",
              "      \n",
              "  <style>\n",
              "    .colab-df-container {\n",
              "      display:flex;\n",
              "      flex-wrap:wrap;\n",
              "      gap: 12px;\n",
              "    }\n",
              "\n",
              "    .colab-df-convert {\n",
              "      background-color: #E8F0FE;\n",
              "      border: none;\n",
              "      border-radius: 50%;\n",
              "      cursor: pointer;\n",
              "      display: none;\n",
              "      fill: #1967D2;\n",
              "      height: 32px;\n",
              "      padding: 0 0 0 0;\n",
              "      width: 32px;\n",
              "    }\n",
              "\n",
              "    .colab-df-convert:hover {\n",
              "      background-color: #E2EBFA;\n",
              "      box-shadow: 0px 1px 2px rgba(60, 64, 67, 0.3), 0px 1px 3px 1px rgba(60, 64, 67, 0.15);\n",
              "      fill: #174EA6;\n",
              "    }\n",
              "\n",
              "    [theme=dark] .colab-df-convert {\n",
              "      background-color: #3B4455;\n",
              "      fill: #D2E3FC;\n",
              "    }\n",
              "\n",
              "    [theme=dark] .colab-df-convert:hover {\n",
              "      background-color: #434B5C;\n",
              "      box-shadow: 0px 1px 3px 1px rgba(0, 0, 0, 0.15);\n",
              "      filter: drop-shadow(0px 1px 2px rgba(0, 0, 0, 0.3));\n",
              "      fill: #FFFFFF;\n",
              "    }\n",
              "  </style>\n",
              "\n",
              "      <script>\n",
              "        const buttonEl =\n",
              "          document.querySelector('#df-334ea0ee-c996-4970-92fa-eb3da07608f3 button.colab-df-convert');\n",
              "        buttonEl.style.display =\n",
              "          google.colab.kernel.accessAllowed ? 'block' : 'none';\n",
              "\n",
              "        async function convertToInteractive(key) {\n",
              "          const element = document.querySelector('#df-334ea0ee-c996-4970-92fa-eb3da07608f3');\n",
              "          const dataTable =\n",
              "            await google.colab.kernel.invokeFunction('convertToInteractive',\n",
              "                                                     [key], {});\n",
              "          if (!dataTable) return;\n",
              "\n",
              "          const docLinkHtml = 'Like what you see? Visit the ' +\n",
              "            '<a target=\"_blank\" href=https://colab.research.google.com/notebooks/data_table.ipynb>data table notebook</a>'\n",
              "            + ' to learn more about interactive tables.';\n",
              "          element.innerHTML = '';\n",
              "          dataTable['output_type'] = 'display_data';\n",
              "          await google.colab.output.renderOutput(dataTable, element);\n",
              "          const docLink = document.createElement('div');\n",
              "          docLink.innerHTML = docLinkHtml;\n",
              "          element.appendChild(docLink);\n",
              "        }\n",
              "      </script>\n",
              "    </div>\n",
              "  </div>\n",
              "  "
            ]
          },
          "metadata": {},
          "execution_count": 3
        }
      ]
    },
    {
      "cell_type": "markdown",
      "source": [
        "## Basic exploration of data"
      ],
      "metadata": {
        "id": "8s4moWwK9DIV"
      }
    },
    {
      "cell_type": "code",
      "source": [
        "#to know the size of database using shape function\n",
        "mydata.shape    "
      ],
      "metadata": {
        "colab": {
          "base_uri": "https://localhost:8080/"
        },
        "id": "3dDAs9Zqe47S",
        "outputId": "e04adb89-ed52-4117-f9d5-f6a46e2c5bf4"
      },
      "execution_count": null,
      "outputs": [
        {
          "output_type": "execute_result",
          "data": {
            "text/plain": [
              "(7043, 33)"
            ]
          },
          "metadata": {},
          "execution_count": 4
        }
      ]
    },
    {
      "cell_type": "markdown",
      "source": [
        "This database contains 7043 rows and 33 columns i.e. 7043 customer's data is being collected.\n",
        "\n"
      ],
      "metadata": {
        "id": "aNqWzCO39Md7"
      }
    },
    {
      "cell_type": "code",
      "source": [
        "#To check for all column present in the data\n",
        "mydata.columns "
      ],
      "metadata": {
        "colab": {
          "base_uri": "https://localhost:8080/"
        },
        "id": "HHhUfhhcUROP",
        "outputId": "4fd238b8-04d5-49bd-bfc4-7f2d23f1913d"
      },
      "execution_count": null,
      "outputs": [
        {
          "output_type": "execute_result",
          "data": {
            "text/plain": [
              "Index(['CustomerID', 'Count', 'Country', 'State', 'City', 'Zip Code',\n",
              "       'Lat Long', 'Latitude', 'Longitude', 'Gender', 'Senior Citizen',\n",
              "       'Partner', 'Dependents', 'Tenure Months', 'Phone Service',\n",
              "       'Multiple Lines', 'Internet Service', 'Online Security',\n",
              "       'Online Backup', 'Device Protection', 'Tech Support', 'Streaming TV',\n",
              "       'Streaming Movies', 'Contract', 'Paperless Billing', 'Payment Method',\n",
              "       'Monthly Charges', 'Total Charges', 'Churn Label', 'Churn Value',\n",
              "       'Churn Score', 'CLTV', 'Churn Reason'],\n",
              "      dtype='object')"
            ]
          },
          "metadata": {},
          "execution_count": 71
        }
      ]
    },
    {
      "cell_type": "code",
      "source": [
        "# Exploring first 10 rows of the dataset using head function\n",
        "mydata.head(5) "
      ],
      "metadata": {
        "colab": {
          "base_uri": "https://localhost:8080/",
          "height": 438
        },
        "id": "vPZJNm6N9s2C",
        "outputId": "40107139-daf4-4334-a49a-857026034f11"
      },
      "execution_count": null,
      "outputs": [
        {
          "output_type": "execute_result",
          "data": {
            "text/plain": [
              "   CustomerID  Count        Country       State         City  Zip Code  \\\n",
              "0  3668-QPYBK    1.0  United States  California  Los Angeles   90003.0   \n",
              "1  9237-HQITU    1.0  United States  California  Los Angeles   90005.0   \n",
              "2  9305-CDSKC    1.0  United States  California  Los Angeles   90006.0   \n",
              "3  7892-POOKP    1.0  United States  California  Los Angeles   90010.0   \n",
              "4  0280-XJGEX    1.0  United States  California  Los Angeles   90015.0   \n",
              "\n",
              "                 Lat Long   Latitude   Longitude  Gender  ...        Contract  \\\n",
              "0  33.964131, -118.272783  33.964131 -118.272783    Male  ...  Month-to-month   \n",
              "1   34.059281, -118.30742  34.059281 -118.307420  Female  ...  Month-to-month   \n",
              "2  34.048013, -118.293953  34.048013 -118.293953  Female  ...  Month-to-month   \n",
              "3  34.062125, -118.315709  34.062125 -118.315709  Female  ...  Month-to-month   \n",
              "4  34.039224, -118.266293  34.039224 -118.266293    Male  ...  Month-to-month   \n",
              "\n",
              "  Paperless Billing             Payment Method  Monthly Charges Total Charges  \\\n",
              "0               Yes               Mailed check            53.85        108.15   \n",
              "1               Yes           Electronic check            70.70        151.65   \n",
              "2               Yes           Electronic check            99.65         820.5   \n",
              "3               Yes           Electronic check           104.80       3046.05   \n",
              "4               Yes  Bank transfer (automatic)           103.70        5036.3   \n",
              "\n",
              "  Churn Label Churn Value Churn Score    CLTV                   Churn Reason  \n",
              "0         Yes         1.0        86.0  3239.0   Competitor made better offer  \n",
              "1         Yes         1.0        67.0  2701.0                          Moved  \n",
              "2         Yes         1.0        86.0  5372.0                          Moved  \n",
              "3         Yes         1.0        84.0  5003.0                          Moved  \n",
              "4         Yes         1.0        89.0  5340.0  Competitor had better devices  \n",
              "\n",
              "[5 rows x 33 columns]"
            ],
            "text/html": [
              "\n",
              "  <div id=\"df-8c6d16ac-5fc4-48ae-ad4d-c1fce51ca314\">\n",
              "    <div class=\"colab-df-container\">\n",
              "      <div>\n",
              "<style scoped>\n",
              "    .dataframe tbody tr th:only-of-type {\n",
              "        vertical-align: middle;\n",
              "    }\n",
              "\n",
              "    .dataframe tbody tr th {\n",
              "        vertical-align: top;\n",
              "    }\n",
              "\n",
              "    .dataframe thead th {\n",
              "        text-align: right;\n",
              "    }\n",
              "</style>\n",
              "<table border=\"1\" class=\"dataframe\">\n",
              "  <thead>\n",
              "    <tr style=\"text-align: right;\">\n",
              "      <th></th>\n",
              "      <th>CustomerID</th>\n",
              "      <th>Count</th>\n",
              "      <th>Country</th>\n",
              "      <th>State</th>\n",
              "      <th>City</th>\n",
              "      <th>Zip Code</th>\n",
              "      <th>Lat Long</th>\n",
              "      <th>Latitude</th>\n",
              "      <th>Longitude</th>\n",
              "      <th>Gender</th>\n",
              "      <th>...</th>\n",
              "      <th>Contract</th>\n",
              "      <th>Paperless Billing</th>\n",
              "      <th>Payment Method</th>\n",
              "      <th>Monthly Charges</th>\n",
              "      <th>Total Charges</th>\n",
              "      <th>Churn Label</th>\n",
              "      <th>Churn Value</th>\n",
              "      <th>Churn Score</th>\n",
              "      <th>CLTV</th>\n",
              "      <th>Churn Reason</th>\n",
              "    </tr>\n",
              "  </thead>\n",
              "  <tbody>\n",
              "    <tr>\n",
              "      <th>0</th>\n",
              "      <td>3668-QPYBK</td>\n",
              "      <td>1.0</td>\n",
              "      <td>United States</td>\n",
              "      <td>California</td>\n",
              "      <td>Los Angeles</td>\n",
              "      <td>90003.0</td>\n",
              "      <td>33.964131, -118.272783</td>\n",
              "      <td>33.964131</td>\n",
              "      <td>-118.272783</td>\n",
              "      <td>Male</td>\n",
              "      <td>...</td>\n",
              "      <td>Month-to-month</td>\n",
              "      <td>Yes</td>\n",
              "      <td>Mailed check</td>\n",
              "      <td>53.85</td>\n",
              "      <td>108.15</td>\n",
              "      <td>Yes</td>\n",
              "      <td>1.0</td>\n",
              "      <td>86.0</td>\n",
              "      <td>3239.0</td>\n",
              "      <td>Competitor made better offer</td>\n",
              "    </tr>\n",
              "    <tr>\n",
              "      <th>1</th>\n",
              "      <td>9237-HQITU</td>\n",
              "      <td>1.0</td>\n",
              "      <td>United States</td>\n",
              "      <td>California</td>\n",
              "      <td>Los Angeles</td>\n",
              "      <td>90005.0</td>\n",
              "      <td>34.059281, -118.30742</td>\n",
              "      <td>34.059281</td>\n",
              "      <td>-118.307420</td>\n",
              "      <td>Female</td>\n",
              "      <td>...</td>\n",
              "      <td>Month-to-month</td>\n",
              "      <td>Yes</td>\n",
              "      <td>Electronic check</td>\n",
              "      <td>70.70</td>\n",
              "      <td>151.65</td>\n",
              "      <td>Yes</td>\n",
              "      <td>1.0</td>\n",
              "      <td>67.0</td>\n",
              "      <td>2701.0</td>\n",
              "      <td>Moved</td>\n",
              "    </tr>\n",
              "    <tr>\n",
              "      <th>2</th>\n",
              "      <td>9305-CDSKC</td>\n",
              "      <td>1.0</td>\n",
              "      <td>United States</td>\n",
              "      <td>California</td>\n",
              "      <td>Los Angeles</td>\n",
              "      <td>90006.0</td>\n",
              "      <td>34.048013, -118.293953</td>\n",
              "      <td>34.048013</td>\n",
              "      <td>-118.293953</td>\n",
              "      <td>Female</td>\n",
              "      <td>...</td>\n",
              "      <td>Month-to-month</td>\n",
              "      <td>Yes</td>\n",
              "      <td>Electronic check</td>\n",
              "      <td>99.65</td>\n",
              "      <td>820.5</td>\n",
              "      <td>Yes</td>\n",
              "      <td>1.0</td>\n",
              "      <td>86.0</td>\n",
              "      <td>5372.0</td>\n",
              "      <td>Moved</td>\n",
              "    </tr>\n",
              "    <tr>\n",
              "      <th>3</th>\n",
              "      <td>7892-POOKP</td>\n",
              "      <td>1.0</td>\n",
              "      <td>United States</td>\n",
              "      <td>California</td>\n",
              "      <td>Los Angeles</td>\n",
              "      <td>90010.0</td>\n",
              "      <td>34.062125, -118.315709</td>\n",
              "      <td>34.062125</td>\n",
              "      <td>-118.315709</td>\n",
              "      <td>Female</td>\n",
              "      <td>...</td>\n",
              "      <td>Month-to-month</td>\n",
              "      <td>Yes</td>\n",
              "      <td>Electronic check</td>\n",
              "      <td>104.80</td>\n",
              "      <td>3046.05</td>\n",
              "      <td>Yes</td>\n",
              "      <td>1.0</td>\n",
              "      <td>84.0</td>\n",
              "      <td>5003.0</td>\n",
              "      <td>Moved</td>\n",
              "    </tr>\n",
              "    <tr>\n",
              "      <th>4</th>\n",
              "      <td>0280-XJGEX</td>\n",
              "      <td>1.0</td>\n",
              "      <td>United States</td>\n",
              "      <td>California</td>\n",
              "      <td>Los Angeles</td>\n",
              "      <td>90015.0</td>\n",
              "      <td>34.039224, -118.266293</td>\n",
              "      <td>34.039224</td>\n",
              "      <td>-118.266293</td>\n",
              "      <td>Male</td>\n",
              "      <td>...</td>\n",
              "      <td>Month-to-month</td>\n",
              "      <td>Yes</td>\n",
              "      <td>Bank transfer (automatic)</td>\n",
              "      <td>103.70</td>\n",
              "      <td>5036.3</td>\n",
              "      <td>Yes</td>\n",
              "      <td>1.0</td>\n",
              "      <td>89.0</td>\n",
              "      <td>5340.0</td>\n",
              "      <td>Competitor had better devices</td>\n",
              "    </tr>\n",
              "  </tbody>\n",
              "</table>\n",
              "<p>5 rows × 33 columns</p>\n",
              "</div>\n",
              "      <button class=\"colab-df-convert\" onclick=\"convertToInteractive('df-8c6d16ac-5fc4-48ae-ad4d-c1fce51ca314')\"\n",
              "              title=\"Convert this dataframe to an interactive table.\"\n",
              "              style=\"display:none;\">\n",
              "        \n",
              "  <svg xmlns=\"http://www.w3.org/2000/svg\" height=\"24px\"viewBox=\"0 0 24 24\"\n",
              "       width=\"24px\">\n",
              "    <path d=\"M0 0h24v24H0V0z\" fill=\"none\"/>\n",
              "    <path d=\"M18.56 5.44l.94 2.06.94-2.06 2.06-.94-2.06-.94-.94-2.06-.94 2.06-2.06.94zm-11 1L8.5 8.5l.94-2.06 2.06-.94-2.06-.94L8.5 2.5l-.94 2.06-2.06.94zm10 10l.94 2.06.94-2.06 2.06-.94-2.06-.94-.94-2.06-.94 2.06-2.06.94z\"/><path d=\"M17.41 7.96l-1.37-1.37c-.4-.4-.92-.59-1.43-.59-.52 0-1.04.2-1.43.59L10.3 9.45l-7.72 7.72c-.78.78-.78 2.05 0 2.83L4 21.41c.39.39.9.59 1.41.59.51 0 1.02-.2 1.41-.59l7.78-7.78 2.81-2.81c.8-.78.8-2.07 0-2.86zM5.41 20L4 18.59l7.72-7.72 1.47 1.35L5.41 20z\"/>\n",
              "  </svg>\n",
              "      </button>\n",
              "      \n",
              "  <style>\n",
              "    .colab-df-container {\n",
              "      display:flex;\n",
              "      flex-wrap:wrap;\n",
              "      gap: 12px;\n",
              "    }\n",
              "\n",
              "    .colab-df-convert {\n",
              "      background-color: #E8F0FE;\n",
              "      border: none;\n",
              "      border-radius: 50%;\n",
              "      cursor: pointer;\n",
              "      display: none;\n",
              "      fill: #1967D2;\n",
              "      height: 32px;\n",
              "      padding: 0 0 0 0;\n",
              "      width: 32px;\n",
              "    }\n",
              "\n",
              "    .colab-df-convert:hover {\n",
              "      background-color: #E2EBFA;\n",
              "      box-shadow: 0px 1px 2px rgba(60, 64, 67, 0.3), 0px 1px 3px 1px rgba(60, 64, 67, 0.15);\n",
              "      fill: #174EA6;\n",
              "    }\n",
              "\n",
              "    [theme=dark] .colab-df-convert {\n",
              "      background-color: #3B4455;\n",
              "      fill: #D2E3FC;\n",
              "    }\n",
              "\n",
              "    [theme=dark] .colab-df-convert:hover {\n",
              "      background-color: #434B5C;\n",
              "      box-shadow: 0px 1px 3px 1px rgba(0, 0, 0, 0.15);\n",
              "      filter: drop-shadow(0px 1px 2px rgba(0, 0, 0, 0.3));\n",
              "      fill: #FFFFFF;\n",
              "    }\n",
              "  </style>\n",
              "\n",
              "      <script>\n",
              "        const buttonEl =\n",
              "          document.querySelector('#df-8c6d16ac-5fc4-48ae-ad4d-c1fce51ca314 button.colab-df-convert');\n",
              "        buttonEl.style.display =\n",
              "          google.colab.kernel.accessAllowed ? 'block' : 'none';\n",
              "\n",
              "        async function convertToInteractive(key) {\n",
              "          const element = document.querySelector('#df-8c6d16ac-5fc4-48ae-ad4d-c1fce51ca314');\n",
              "          const dataTable =\n",
              "            await google.colab.kernel.invokeFunction('convertToInteractive',\n",
              "                                                     [key], {});\n",
              "          if (!dataTable) return;\n",
              "\n",
              "          const docLinkHtml = 'Like what you see? Visit the ' +\n",
              "            '<a target=\"_blank\" href=https://colab.research.google.com/notebooks/data_table.ipynb>data table notebook</a>'\n",
              "            + ' to learn more about interactive tables.';\n",
              "          element.innerHTML = '';\n",
              "          dataTable['output_type'] = 'display_data';\n",
              "          await google.colab.output.renderOutput(dataTable, element);\n",
              "          const docLink = document.createElement('div');\n",
              "          docLink.innerHTML = docLinkHtml;\n",
              "          element.appendChild(docLink);\n",
              "        }\n",
              "      </script>\n",
              "    </div>\n",
              "  </div>\n",
              "  "
            ]
          },
          "metadata": {},
          "execution_count": 4
        }
      ]
    },
    {
      "cell_type": "code",
      "source": [
        "# Exploring last 10 rows of dataset using tail function.\n",
        "mydata.tail(5) "
      ],
      "metadata": {
        "colab": {
          "base_uri": "https://localhost:8080/",
          "height": 438
        },
        "id": "cbSTUjTH-8SJ",
        "outputId": "3dbd2a32-0164-411f-8684-34da7877a820"
      },
      "execution_count": null,
      "outputs": [
        {
          "output_type": "execute_result",
          "data": {
            "text/plain": [
              "      CustomerID  Count        Country       State          City  Zip Code  \\\n",
              "7038  2569-WGERO    1.0  United States  California       Landers   92285.0   \n",
              "7039  6840-RESVB    1.0  United States  California      Adelanto   92301.0   \n",
              "7040  2234-XADUH    1.0  United States  California         Amboy   92304.0   \n",
              "7041  4801-JZAZL    1.0  United States  California  Angelus Oaks   92305.0   \n",
              "7042  3186-AJIEK    1.0  United States  California  Apple Valley   92308.0   \n",
              "\n",
              "                    Lat Long   Latitude   Longitude  Gender  ...  \\\n",
              "7038  34.341737, -116.539416  34.341737 -116.539416  Female  ...   \n",
              "7039  34.667815, -117.536183  34.667815 -117.536183    Male  ...   \n",
              "7040  34.559882, -115.637164  34.559882 -115.637164  Female  ...   \n",
              "7041     34.1678, -116.86433  34.167800 -116.864330  Female  ...   \n",
              "7042  34.424926, -117.184503  34.424926 -117.184503    Male  ...   \n",
              "\n",
              "            Contract Paperless Billing             Payment Method  \\\n",
              "7038        Two year               Yes  Bank transfer (automatic)   \n",
              "7039        One year               Yes               Mailed check   \n",
              "7040        One year               Yes    Credit card (automatic)   \n",
              "7041  Month-to-month               Yes           Electronic check   \n",
              "7042        Two year               Yes  Bank transfer (automatic)   \n",
              "\n",
              "      Monthly Charges Total Charges Churn Label Churn Value Churn Score  \\\n",
              "7038            21.15        1419.4          No         0.0        45.0   \n",
              "7039            84.80        1990.5          No         0.0        59.0   \n",
              "7040           103.20        7362.9          No         0.0        71.0   \n",
              "7041            29.60        346.45          No         0.0        59.0   \n",
              "7042           105.65        6844.5          No         0.0        38.0   \n",
              "\n",
              "        CLTV Churn Reason  \n",
              "7038  5306.0          NaN  \n",
              "7039  2140.0          NaN  \n",
              "7040  5560.0          NaN  \n",
              "7041  2793.0          NaN  \n",
              "7042  5097.0          NaN  \n",
              "\n",
              "[5 rows x 33 columns]"
            ],
            "text/html": [
              "\n",
              "  <div id=\"df-93650c82-b0e3-4b5b-a67c-b0dc3a792ff7\">\n",
              "    <div class=\"colab-df-container\">\n",
              "      <div>\n",
              "<style scoped>\n",
              "    .dataframe tbody tr th:only-of-type {\n",
              "        vertical-align: middle;\n",
              "    }\n",
              "\n",
              "    .dataframe tbody tr th {\n",
              "        vertical-align: top;\n",
              "    }\n",
              "\n",
              "    .dataframe thead th {\n",
              "        text-align: right;\n",
              "    }\n",
              "</style>\n",
              "<table border=\"1\" class=\"dataframe\">\n",
              "  <thead>\n",
              "    <tr style=\"text-align: right;\">\n",
              "      <th></th>\n",
              "      <th>CustomerID</th>\n",
              "      <th>Count</th>\n",
              "      <th>Country</th>\n",
              "      <th>State</th>\n",
              "      <th>City</th>\n",
              "      <th>Zip Code</th>\n",
              "      <th>Lat Long</th>\n",
              "      <th>Latitude</th>\n",
              "      <th>Longitude</th>\n",
              "      <th>Gender</th>\n",
              "      <th>...</th>\n",
              "      <th>Contract</th>\n",
              "      <th>Paperless Billing</th>\n",
              "      <th>Payment Method</th>\n",
              "      <th>Monthly Charges</th>\n",
              "      <th>Total Charges</th>\n",
              "      <th>Churn Label</th>\n",
              "      <th>Churn Value</th>\n",
              "      <th>Churn Score</th>\n",
              "      <th>CLTV</th>\n",
              "      <th>Churn Reason</th>\n",
              "    </tr>\n",
              "  </thead>\n",
              "  <tbody>\n",
              "    <tr>\n",
              "      <th>7038</th>\n",
              "      <td>2569-WGERO</td>\n",
              "      <td>1.0</td>\n",
              "      <td>United States</td>\n",
              "      <td>California</td>\n",
              "      <td>Landers</td>\n",
              "      <td>92285.0</td>\n",
              "      <td>34.341737, -116.539416</td>\n",
              "      <td>34.341737</td>\n",
              "      <td>-116.539416</td>\n",
              "      <td>Female</td>\n",
              "      <td>...</td>\n",
              "      <td>Two year</td>\n",
              "      <td>Yes</td>\n",
              "      <td>Bank transfer (automatic)</td>\n",
              "      <td>21.15</td>\n",
              "      <td>1419.4</td>\n",
              "      <td>No</td>\n",
              "      <td>0.0</td>\n",
              "      <td>45.0</td>\n",
              "      <td>5306.0</td>\n",
              "      <td>NaN</td>\n",
              "    </tr>\n",
              "    <tr>\n",
              "      <th>7039</th>\n",
              "      <td>6840-RESVB</td>\n",
              "      <td>1.0</td>\n",
              "      <td>United States</td>\n",
              "      <td>California</td>\n",
              "      <td>Adelanto</td>\n",
              "      <td>92301.0</td>\n",
              "      <td>34.667815, -117.536183</td>\n",
              "      <td>34.667815</td>\n",
              "      <td>-117.536183</td>\n",
              "      <td>Male</td>\n",
              "      <td>...</td>\n",
              "      <td>One year</td>\n",
              "      <td>Yes</td>\n",
              "      <td>Mailed check</td>\n",
              "      <td>84.80</td>\n",
              "      <td>1990.5</td>\n",
              "      <td>No</td>\n",
              "      <td>0.0</td>\n",
              "      <td>59.0</td>\n",
              "      <td>2140.0</td>\n",
              "      <td>NaN</td>\n",
              "    </tr>\n",
              "    <tr>\n",
              "      <th>7040</th>\n",
              "      <td>2234-XADUH</td>\n",
              "      <td>1.0</td>\n",
              "      <td>United States</td>\n",
              "      <td>California</td>\n",
              "      <td>Amboy</td>\n",
              "      <td>92304.0</td>\n",
              "      <td>34.559882, -115.637164</td>\n",
              "      <td>34.559882</td>\n",
              "      <td>-115.637164</td>\n",
              "      <td>Female</td>\n",
              "      <td>...</td>\n",
              "      <td>One year</td>\n",
              "      <td>Yes</td>\n",
              "      <td>Credit card (automatic)</td>\n",
              "      <td>103.20</td>\n",
              "      <td>7362.9</td>\n",
              "      <td>No</td>\n",
              "      <td>0.0</td>\n",
              "      <td>71.0</td>\n",
              "      <td>5560.0</td>\n",
              "      <td>NaN</td>\n",
              "    </tr>\n",
              "    <tr>\n",
              "      <th>7041</th>\n",
              "      <td>4801-JZAZL</td>\n",
              "      <td>1.0</td>\n",
              "      <td>United States</td>\n",
              "      <td>California</td>\n",
              "      <td>Angelus Oaks</td>\n",
              "      <td>92305.0</td>\n",
              "      <td>34.1678, -116.86433</td>\n",
              "      <td>34.167800</td>\n",
              "      <td>-116.864330</td>\n",
              "      <td>Female</td>\n",
              "      <td>...</td>\n",
              "      <td>Month-to-month</td>\n",
              "      <td>Yes</td>\n",
              "      <td>Electronic check</td>\n",
              "      <td>29.60</td>\n",
              "      <td>346.45</td>\n",
              "      <td>No</td>\n",
              "      <td>0.0</td>\n",
              "      <td>59.0</td>\n",
              "      <td>2793.0</td>\n",
              "      <td>NaN</td>\n",
              "    </tr>\n",
              "    <tr>\n",
              "      <th>7042</th>\n",
              "      <td>3186-AJIEK</td>\n",
              "      <td>1.0</td>\n",
              "      <td>United States</td>\n",
              "      <td>California</td>\n",
              "      <td>Apple Valley</td>\n",
              "      <td>92308.0</td>\n",
              "      <td>34.424926, -117.184503</td>\n",
              "      <td>34.424926</td>\n",
              "      <td>-117.184503</td>\n",
              "      <td>Male</td>\n",
              "      <td>...</td>\n",
              "      <td>Two year</td>\n",
              "      <td>Yes</td>\n",
              "      <td>Bank transfer (automatic)</td>\n",
              "      <td>105.65</td>\n",
              "      <td>6844.5</td>\n",
              "      <td>No</td>\n",
              "      <td>0.0</td>\n",
              "      <td>38.0</td>\n",
              "      <td>5097.0</td>\n",
              "      <td>NaN</td>\n",
              "    </tr>\n",
              "  </tbody>\n",
              "</table>\n",
              "<p>5 rows × 33 columns</p>\n",
              "</div>\n",
              "      <button class=\"colab-df-convert\" onclick=\"convertToInteractive('df-93650c82-b0e3-4b5b-a67c-b0dc3a792ff7')\"\n",
              "              title=\"Convert this dataframe to an interactive table.\"\n",
              "              style=\"display:none;\">\n",
              "        \n",
              "  <svg xmlns=\"http://www.w3.org/2000/svg\" height=\"24px\"viewBox=\"0 0 24 24\"\n",
              "       width=\"24px\">\n",
              "    <path d=\"M0 0h24v24H0V0z\" fill=\"none\"/>\n",
              "    <path d=\"M18.56 5.44l.94 2.06.94-2.06 2.06-.94-2.06-.94-.94-2.06-.94 2.06-2.06.94zm-11 1L8.5 8.5l.94-2.06 2.06-.94-2.06-.94L8.5 2.5l-.94 2.06-2.06.94zm10 10l.94 2.06.94-2.06 2.06-.94-2.06-.94-.94-2.06-.94 2.06-2.06.94z\"/><path d=\"M17.41 7.96l-1.37-1.37c-.4-.4-.92-.59-1.43-.59-.52 0-1.04.2-1.43.59L10.3 9.45l-7.72 7.72c-.78.78-.78 2.05 0 2.83L4 21.41c.39.39.9.59 1.41.59.51 0 1.02-.2 1.41-.59l7.78-7.78 2.81-2.81c.8-.78.8-2.07 0-2.86zM5.41 20L4 18.59l7.72-7.72 1.47 1.35L5.41 20z\"/>\n",
              "  </svg>\n",
              "      </button>\n",
              "      \n",
              "  <style>\n",
              "    .colab-df-container {\n",
              "      display:flex;\n",
              "      flex-wrap:wrap;\n",
              "      gap: 12px;\n",
              "    }\n",
              "\n",
              "    .colab-df-convert {\n",
              "      background-color: #E8F0FE;\n",
              "      border: none;\n",
              "      border-radius: 50%;\n",
              "      cursor: pointer;\n",
              "      display: none;\n",
              "      fill: #1967D2;\n",
              "      height: 32px;\n",
              "      padding: 0 0 0 0;\n",
              "      width: 32px;\n",
              "    }\n",
              "\n",
              "    .colab-df-convert:hover {\n",
              "      background-color: #E2EBFA;\n",
              "      box-shadow: 0px 1px 2px rgba(60, 64, 67, 0.3), 0px 1px 3px 1px rgba(60, 64, 67, 0.15);\n",
              "      fill: #174EA6;\n",
              "    }\n",
              "\n",
              "    [theme=dark] .colab-df-convert {\n",
              "      background-color: #3B4455;\n",
              "      fill: #D2E3FC;\n",
              "    }\n",
              "\n",
              "    [theme=dark] .colab-df-convert:hover {\n",
              "      background-color: #434B5C;\n",
              "      box-shadow: 0px 1px 3px 1px rgba(0, 0, 0, 0.15);\n",
              "      filter: drop-shadow(0px 1px 2px rgba(0, 0, 0, 0.3));\n",
              "      fill: #FFFFFF;\n",
              "    }\n",
              "  </style>\n",
              "\n",
              "      <script>\n",
              "        const buttonEl =\n",
              "          document.querySelector('#df-93650c82-b0e3-4b5b-a67c-b0dc3a792ff7 button.colab-df-convert');\n",
              "        buttonEl.style.display =\n",
              "          google.colab.kernel.accessAllowed ? 'block' : 'none';\n",
              "\n",
              "        async function convertToInteractive(key) {\n",
              "          const element = document.querySelector('#df-93650c82-b0e3-4b5b-a67c-b0dc3a792ff7');\n",
              "          const dataTable =\n",
              "            await google.colab.kernel.invokeFunction('convertToInteractive',\n",
              "                                                     [key], {});\n",
              "          if (!dataTable) return;\n",
              "\n",
              "          const docLinkHtml = 'Like what you see? Visit the ' +\n",
              "            '<a target=\"_blank\" href=https://colab.research.google.com/notebooks/data_table.ipynb>data table notebook</a>'\n",
              "            + ' to learn more about interactive tables.';\n",
              "          element.innerHTML = '';\n",
              "          dataTable['output_type'] = 'display_data';\n",
              "          await google.colab.output.renderOutput(dataTable, element);\n",
              "          const docLink = document.createElement('div');\n",
              "          docLink.innerHTML = docLinkHtml;\n",
              "          element.appendChild(docLink);\n",
              "        }\n",
              "      </script>\n",
              "    </div>\n",
              "  </div>\n",
              "  "
            ]
          },
          "metadata": {},
          "execution_count": 9
        }
      ]
    },
    {
      "cell_type": "code",
      "source": [
        "#To check for basic information of data like null elements and datatypes of column, memory usage by data\n",
        "mydata.info()      "
      ],
      "metadata": {
        "id": "FqgDRGduCRht",
        "colab": {
          "base_uri": "https://localhost:8080/"
        },
        "outputId": "d1a53e85-4dde-4792-bc7a-d685c6a42303"
      },
      "execution_count": null,
      "outputs": [
        {
          "output_type": "stream",
          "name": "stdout",
          "text": [
            "<class 'pandas.core.frame.DataFrame'>\n",
            "RangeIndex: 7043 entries, 0 to 7042\n",
            "Data columns (total 33 columns):\n",
            " #   Column             Non-Null Count  Dtype  \n",
            "---  ------             --------------  -----  \n",
            " 0   CustomerID         7043 non-null   object \n",
            " 1   Count              7043 non-null   float64\n",
            " 2   Country            7043 non-null   object \n",
            " 3   State              7043 non-null   object \n",
            " 4   City               7043 non-null   object \n",
            " 5   Zip Code           7043 non-null   float64\n",
            " 6   Lat Long           7043 non-null   object \n",
            " 7   Latitude           7043 non-null   float64\n",
            " 8   Longitude          7043 non-null   float64\n",
            " 9   Gender             7043 non-null   object \n",
            " 10  Senior Citizen     7043 non-null   object \n",
            " 11  Partner            7043 non-null   object \n",
            " 12  Dependents         7043 non-null   object \n",
            " 13  Tenure Months      7043 non-null   float64\n",
            " 14  Phone Service      7043 non-null   object \n",
            " 15  Multiple Lines     7043 non-null   object \n",
            " 16  Internet Service   7043 non-null   object \n",
            " 17  Online Security    7043 non-null   object \n",
            " 18  Online Backup      7043 non-null   object \n",
            " 19  Device Protection  7043 non-null   object \n",
            " 20  Tech Support       7043 non-null   object \n",
            " 21  Streaming TV       7043 non-null   object \n",
            " 22  Streaming Movies   7043 non-null   object \n",
            " 23  Contract           7043 non-null   object \n",
            " 24  Paperless Billing  7043 non-null   object \n",
            " 25  Payment Method     7043 non-null   object \n",
            " 26  Monthly Charges    7043 non-null   float64\n",
            " 27  Total Charges      7043 non-null   object \n",
            " 28  Churn Label        7043 non-null   object \n",
            " 29  Churn Value        7043 non-null   float64\n",
            " 30  Churn Score        7043 non-null   float64\n",
            " 31  CLTV               7043 non-null   float64\n",
            " 32  Churn Reason       1869 non-null   object \n",
            "dtypes: float64(9), object(24)\n",
            "memory usage: 1.8+ MB\n"
          ]
        }
      ]
    },
    {
      "cell_type": "code",
      "source": [
        "mydata.isna().any()"
      ],
      "metadata": {
        "id": "OIqmmyrEXJbh",
        "colab": {
          "base_uri": "https://localhost:8080/"
        },
        "outputId": "971d1e8d-0681-4e67-dba6-db436a22ff4b"
      },
      "execution_count": null,
      "outputs": [
        {
          "output_type": "execute_result",
          "data": {
            "text/plain": [
              "CustomerID           False\n",
              "Count                False\n",
              "Country              False\n",
              "State                False\n",
              "City                 False\n",
              "Zip Code             False\n",
              "Lat Long             False\n",
              "Latitude             False\n",
              "Longitude            False\n",
              "Gender               False\n",
              "Senior Citizen       False\n",
              "Partner              False\n",
              "Dependents           False\n",
              "Tenure Months        False\n",
              "Phone Service        False\n",
              "Multiple Lines       False\n",
              "Internet Service     False\n",
              "Online Security      False\n",
              "Online Backup        False\n",
              "Device Protection    False\n",
              "Tech Support         False\n",
              "Streaming TV         False\n",
              "Streaming Movies     False\n",
              "Contract             False\n",
              "Paperless Billing    False\n",
              "Payment Method       False\n",
              "Monthly Charges      False\n",
              "Total Charges        False\n",
              "Churn Label          False\n",
              "Churn Value          False\n",
              "Churn Score          False\n",
              "CLTV                 False\n",
              "Churn Reason          True\n",
              "dtype: bool"
            ]
          },
          "metadata": {},
          "execution_count": 12
        }
      ]
    },
    {
      "cell_type": "code",
      "source": [
        "#checking for null values\n",
        "mydata.isnull().sum()"
      ],
      "metadata": {
        "id": "ldYT1l3WFWl4",
        "colab": {
          "base_uri": "https://localhost:8080/"
        },
        "outputId": "2aaa6d7b-1075-4747-904d-8e84c4d3c493"
      },
      "execution_count": null,
      "outputs": [
        {
          "output_type": "execute_result",
          "data": {
            "text/plain": [
              "CustomerID              0\n",
              "Count                   0\n",
              "Country                 0\n",
              "State                   0\n",
              "City                    0\n",
              "Zip Code                0\n",
              "Lat Long                0\n",
              "Latitude                0\n",
              "Longitude               0\n",
              "Gender                  0\n",
              "Senior Citizen          0\n",
              "Partner                 0\n",
              "Dependents              0\n",
              "Tenure Months           0\n",
              "Phone Service           0\n",
              "Multiple Lines          0\n",
              "Internet Service        0\n",
              "Online Security         0\n",
              "Online Backup           0\n",
              "Device Protection       0\n",
              "Tech Support            0\n",
              "Streaming TV            0\n",
              "Streaming Movies        0\n",
              "Contract                0\n",
              "Paperless Billing       0\n",
              "Payment Method          0\n",
              "Monthly Charges         0\n",
              "Total Charges           0\n",
              "Churn Label             0\n",
              "Churn Value             0\n",
              "Churn Score             0\n",
              "CLTV                    0\n",
              "Churn Reason         5174\n",
              "dtype: int64"
            ]
          },
          "metadata": {},
          "execution_count": 5
        }
      ]
    },
    {
      "cell_type": "markdown",
      "source": [
        "**From above we can see that only last column i.e. churn reason has null i.e. missing values in it.**"
      ],
      "metadata": {
        "id": "xYGgq9m4EwsB"
      }
    },
    {
      "cell_type": "markdown",
      "source": [
        "\n",
        "##1. Datatypes of variables:\n",
        "![Screenshot 2022-05-24 205904.jpg](data:image/jpeg;base64,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)"
      ],
      "metadata": {
        "id": "QtWCd-4osEUy"
      }
    },
    {
      "cell_type": "markdown",
      "source": [
        "**In the above chart statistical and python datatypes of the varibles in the the dataframe is given. Also datatype which python reads is given. Python reads datatype differntly for some int and boolean datatype as float or object as we can see in the above table.**"
      ],
      "metadata": {
        "id": "s9m0A4aPtVFA"
      }
    },
    {
      "cell_type": "code",
      "source": [
        "#to check datatypes of the variables used in a dataframe \n",
        "mydata.dtypes\n"
      ],
      "metadata": {
        "id": "1l3zC8ctskaj",
        "colab": {
          "base_uri": "https://localhost:8080/"
        },
        "outputId": "166491db-76dc-4956-bf30-bda385a5f979"
      },
      "execution_count": null,
      "outputs": [
        {
          "output_type": "execute_result",
          "data": {
            "text/plain": [
              "CustomerID            object\n",
              "Count                float64\n",
              "Country               object\n",
              "State                 object\n",
              "City                  object\n",
              "Zip Code             float64\n",
              "Lat Long              object\n",
              "Latitude             float64\n",
              "Longitude            float64\n",
              "Gender                object\n",
              "Senior Citizen        object\n",
              "Partner               object\n",
              "Dependents            object\n",
              "Tenure Months        float64\n",
              "Phone Service         object\n",
              "Multiple Lines        object\n",
              "Internet Service      object\n",
              "Online Security       object\n",
              "Online Backup         object\n",
              "Device Protection     object\n",
              "Tech Support          object\n",
              "Streaming TV          object\n",
              "Streaming Movies      object\n",
              "Contract              object\n",
              "Paperless Billing     object\n",
              "Payment Method        object\n",
              "Monthly Charges      float64\n",
              "Total Charges         object\n",
              "Churn Label           object\n",
              "Churn Value          float64\n",
              "Churn Score          float64\n",
              "CLTV                 float64\n",
              "Churn Reason          object\n",
              "dtype: object"
            ]
          },
          "metadata": {},
          "execution_count": 14
        }
      ]
    },
    {
      "cell_type": "markdown",
      "source": [
        "##2. Stastical exploration of the continuous Data\n"
      ],
      "metadata": {
        "id": "0YZ6CI0N9qqz"
      }
    },
    {
      "cell_type": "code",
      "source": [
        "##Stastical exploration of the continuous Data using describe()\n",
        "mydata.describe()"
      ],
      "metadata": {
        "colab": {
          "base_uri": "https://localhost:8080/",
          "height": 300
        },
        "id": "-rJ7auZlGO6T",
        "outputId": "b38af310-d625-4345-ef76-601fdeedf2d1"
      },
      "execution_count": null,
      "outputs": [
        {
          "output_type": "execute_result",
          "data": {
            "text/plain": [
              "        Count      Zip Code     Latitude    Longitude  Tenure Months  \\\n",
              "count  7043.0   7043.000000  7043.000000  7043.000000    7043.000000   \n",
              "mean      1.0  93521.964646    36.282441  -119.798880      32.371149   \n",
              "std       0.0   1865.794555     2.455723     2.157889      24.559481   \n",
              "min       1.0  90001.000000    32.555828  -124.301372       0.000000   \n",
              "25%       1.0  92102.000000    34.030915  -121.815412       9.000000   \n",
              "50%       1.0  93552.000000    36.391777  -119.730885      29.000000   \n",
              "75%       1.0  95351.000000    38.224869  -118.043237      55.000000   \n",
              "max       1.0  96161.000000    41.962127  -114.192901      72.000000   \n",
              "\n",
              "       Monthly Charges  Churn Value  Churn Score         CLTV  \n",
              "count      7043.000000  7043.000000  7043.000000  7043.000000  \n",
              "mean         64.761692     0.265370    58.699418  4400.295755  \n",
              "std          30.090047     0.441561    21.525131  1183.057152  \n",
              "min          18.250000     0.000000     5.000000  2003.000000  \n",
              "25%          35.500000     0.000000    40.000000  3469.000000  \n",
              "50%          70.350000     0.000000    61.000000  4527.000000  \n",
              "75%          89.850000     1.000000    75.000000  5380.500000  \n",
              "max         118.750000     1.000000   100.000000  6500.000000  "
            ],
            "text/html": [
              "\n",
              "  <div id=\"df-329a3e0c-1b8b-46de-ad8e-e2951e1c1510\">\n",
              "    <div class=\"colab-df-container\">\n",
              "      <div>\n",
              "<style scoped>\n",
              "    .dataframe tbody tr th:only-of-type {\n",
              "        vertical-align: middle;\n",
              "    }\n",
              "\n",
              "    .dataframe tbody tr th {\n",
              "        vertical-align: top;\n",
              "    }\n",
              "\n",
              "    .dataframe thead th {\n",
              "        text-align: right;\n",
              "    }\n",
              "</style>\n",
              "<table border=\"1\" class=\"dataframe\">\n",
              "  <thead>\n",
              "    <tr style=\"text-align: right;\">\n",
              "      <th></th>\n",
              "      <th>Count</th>\n",
              "      <th>Zip Code</th>\n",
              "      <th>Latitude</th>\n",
              "      <th>Longitude</th>\n",
              "      <th>Tenure Months</th>\n",
              "      <th>Monthly Charges</th>\n",
              "      <th>Churn Value</th>\n",
              "      <th>Churn Score</th>\n",
              "      <th>CLTV</th>\n",
              "    </tr>\n",
              "  </thead>\n",
              "  <tbody>\n",
              "    <tr>\n",
              "      <th>count</th>\n",
              "      <td>7043.0</td>\n",
              "      <td>7043.000000</td>\n",
              "      <td>7043.000000</td>\n",
              "      <td>7043.000000</td>\n",
              "      <td>7043.000000</td>\n",
              "      <td>7043.000000</td>\n",
              "      <td>7043.000000</td>\n",
              "      <td>7043.000000</td>\n",
              "      <td>7043.000000</td>\n",
              "    </tr>\n",
              "    <tr>\n",
              "      <th>mean</th>\n",
              "      <td>1.0</td>\n",
              "      <td>93521.964646</td>\n",
              "      <td>36.282441</td>\n",
              "      <td>-119.798880</td>\n",
              "      <td>32.371149</td>\n",
              "      <td>64.761692</td>\n",
              "      <td>0.265370</td>\n",
              "      <td>58.699418</td>\n",
              "      <td>4400.295755</td>\n",
              "    </tr>\n",
              "    <tr>\n",
              "      <th>std</th>\n",
              "      <td>0.0</td>\n",
              "      <td>1865.794555</td>\n",
              "      <td>2.455723</td>\n",
              "      <td>2.157889</td>\n",
              "      <td>24.559481</td>\n",
              "      <td>30.090047</td>\n",
              "      <td>0.441561</td>\n",
              "      <td>21.525131</td>\n",
              "      <td>1183.057152</td>\n",
              "    </tr>\n",
              "    <tr>\n",
              "      <th>min</th>\n",
              "      <td>1.0</td>\n",
              "      <td>90001.000000</td>\n",
              "      <td>32.555828</td>\n",
              "      <td>-124.301372</td>\n",
              "      <td>0.000000</td>\n",
              "      <td>18.250000</td>\n",
              "      <td>0.000000</td>\n",
              "      <td>5.000000</td>\n",
              "      <td>2003.000000</td>\n",
              "    </tr>\n",
              "    <tr>\n",
              "      <th>25%</th>\n",
              "      <td>1.0</td>\n",
              "      <td>92102.000000</td>\n",
              "      <td>34.030915</td>\n",
              "      <td>-121.815412</td>\n",
              "      <td>9.000000</td>\n",
              "      <td>35.500000</td>\n",
              "      <td>0.000000</td>\n",
              "      <td>40.000000</td>\n",
              "      <td>3469.000000</td>\n",
              "    </tr>\n",
              "    <tr>\n",
              "      <th>50%</th>\n",
              "      <td>1.0</td>\n",
              "      <td>93552.000000</td>\n",
              "      <td>36.391777</td>\n",
              "      <td>-119.730885</td>\n",
              "      <td>29.000000</td>\n",
              "      <td>70.350000</td>\n",
              "      <td>0.000000</td>\n",
              "      <td>61.000000</td>\n",
              "      <td>4527.000000</td>\n",
              "    </tr>\n",
              "    <tr>\n",
              "      <th>75%</th>\n",
              "      <td>1.0</td>\n",
              "      <td>95351.000000</td>\n",
              "      <td>38.224869</td>\n",
              "      <td>-118.043237</td>\n",
              "      <td>55.000000</td>\n",
              "      <td>89.850000</td>\n",
              "      <td>1.000000</td>\n",
              "      <td>75.000000</td>\n",
              "      <td>5380.500000</td>\n",
              "    </tr>\n",
              "    <tr>\n",
              "      <th>max</th>\n",
              "      <td>1.0</td>\n",
              "      <td>96161.000000</td>\n",
              "      <td>41.962127</td>\n",
              "      <td>-114.192901</td>\n",
              "      <td>72.000000</td>\n",
              "      <td>118.750000</td>\n",
              "      <td>1.000000</td>\n",
              "      <td>100.000000</td>\n",
              "      <td>6500.000000</td>\n",
              "    </tr>\n",
              "  </tbody>\n",
              "</table>\n",
              "</div>\n",
              "      <button class=\"colab-df-convert\" onclick=\"convertToInteractive('df-329a3e0c-1b8b-46de-ad8e-e2951e1c1510')\"\n",
              "              title=\"Convert this dataframe to an interactive table.\"\n",
              "              style=\"display:none;\">\n",
              "        \n",
              "  <svg xmlns=\"http://www.w3.org/2000/svg\" height=\"24px\"viewBox=\"0 0 24 24\"\n",
              "       width=\"24px\">\n",
              "    <path d=\"M0 0h24v24H0V0z\" fill=\"none\"/>\n",
              "    <path d=\"M18.56 5.44l.94 2.06.94-2.06 2.06-.94-2.06-.94-.94-2.06-.94 2.06-2.06.94zm-11 1L8.5 8.5l.94-2.06 2.06-.94-2.06-.94L8.5 2.5l-.94 2.06-2.06.94zm10 10l.94 2.06.94-2.06 2.06-.94-2.06-.94-.94-2.06-.94 2.06-2.06.94z\"/><path d=\"M17.41 7.96l-1.37-1.37c-.4-.4-.92-.59-1.43-.59-.52 0-1.04.2-1.43.59L10.3 9.45l-7.72 7.72c-.78.78-.78 2.05 0 2.83L4 21.41c.39.39.9.59 1.41.59.51 0 1.02-.2 1.41-.59l7.78-7.78 2.81-2.81c.8-.78.8-2.07 0-2.86zM5.41 20L4 18.59l7.72-7.72 1.47 1.35L5.41 20z\"/>\n",
              "  </svg>\n",
              "      </button>\n",
              "      \n",
              "  <style>\n",
              "    .colab-df-container {\n",
              "      display:flex;\n",
              "      flex-wrap:wrap;\n",
              "      gap: 12px;\n",
              "    }\n",
              "\n",
              "    .colab-df-convert {\n",
              "      background-color: #E8F0FE;\n",
              "      border: none;\n",
              "      border-radius: 50%;\n",
              "      cursor: pointer;\n",
              "      display: none;\n",
              "      fill: #1967D2;\n",
              "      height: 32px;\n",
              "      padding: 0 0 0 0;\n",
              "      width: 32px;\n",
              "    }\n",
              "\n",
              "    .colab-df-convert:hover {\n",
              "      background-color: #E2EBFA;\n",
              "      box-shadow: 0px 1px 2px rgba(60, 64, 67, 0.3), 0px 1px 3px 1px rgba(60, 64, 67, 0.15);\n",
              "      fill: #174EA6;\n",
              "    }\n",
              "\n",
              "    [theme=dark] .colab-df-convert {\n",
              "      background-color: #3B4455;\n",
              "      fill: #D2E3FC;\n",
              "    }\n",
              "\n",
              "    [theme=dark] .colab-df-convert:hover {\n",
              "      background-color: #434B5C;\n",
              "      box-shadow: 0px 1px 3px 1px rgba(0, 0, 0, 0.15);\n",
              "      filter: drop-shadow(0px 1px 2px rgba(0, 0, 0, 0.3));\n",
              "      fill: #FFFFFF;\n",
              "    }\n",
              "  </style>\n",
              "\n",
              "      <script>\n",
              "        const buttonEl =\n",
              "          document.querySelector('#df-329a3e0c-1b8b-46de-ad8e-e2951e1c1510 button.colab-df-convert');\n",
              "        buttonEl.style.display =\n",
              "          google.colab.kernel.accessAllowed ? 'block' : 'none';\n",
              "\n",
              "        async function convertToInteractive(key) {\n",
              "          const element = document.querySelector('#df-329a3e0c-1b8b-46de-ad8e-e2951e1c1510');\n",
              "          const dataTable =\n",
              "            await google.colab.kernel.invokeFunction('convertToInteractive',\n",
              "                                                     [key], {});\n",
              "          if (!dataTable) return;\n",
              "\n",
              "          const docLinkHtml = 'Like what you see? Visit the ' +\n",
              "            '<a target=\"_blank\" href=https://colab.research.google.com/notebooks/data_table.ipynb>data table notebook</a>'\n",
              "            + ' to learn more about interactive tables.';\n",
              "          element.innerHTML = '';\n",
              "          dataTable['output_type'] = 'display_data';\n",
              "          await google.colab.output.renderOutput(dataTable, element);\n",
              "          const docLink = document.createElement('div');\n",
              "          docLink.innerHTML = docLinkHtml;\n",
              "          element.appendChild(docLink);\n",
              "        }\n",
              "      </script>\n",
              "    </div>\n",
              "  </div>\n",
              "  "
            ]
          },
          "metadata": {},
          "execution_count": 15
        }
      ]
    },
    {
      "cell_type": "markdown",
      "source": [
        "**For all the Qauntitative variables we are able to know all the basic statistical terms such as count, mean, standard deviation, mininum,25%, 50%, 75%, and maximum of all the values.**"
      ],
      "metadata": {
        "id": "cpqR06Snw_AM"
      }
    },
    {
      "cell_type": "markdown",
      "source": [
        " ## 3. To find out the percentage of females and senior citizens in this data set using plots."
      ],
      "metadata": {
        "id": "qtvRDCi00mj3"
      }
    },
    {
      "cell_type": "code",
      "source": [
        "#to know the percentage of Female customers we are using pie chart\n",
        "count= mydata['Gender'].value_counts()\n",
        "plt.pie(count,labels=['Male', 'Female'], autopct='%1.1f%%')\n",
        "plt.title('Percentage of Male and Female')\n",
        "plt.legend()"
      ],
      "metadata": {
        "id": "6GQjDAb71CNA",
        "colab": {
          "base_uri": "https://localhost:8080/",
          "height": 281
        },
        "outputId": "67599d24-ea7b-40f3-c87b-6b75f1120862"
      },
      "execution_count": null,
      "outputs": [
        {
          "output_type": "execute_result",
          "data": {
            "text/plain": [
              "<matplotlib.legend.Legend at 0x7fa8542780d0>"
            ]
          },
          "metadata": {},
          "execution_count": 12
        },
        {
          "output_type": "display_data",
          "data": {
            "text/plain": [
              "<Figure size 432x288 with 1 Axes>"
            ],
            "image/png": "[encoded data removed]"
          },
          "metadata": {}
        }
      ]
    },
    {
      "cell_type": "markdown",
      "source": [
        "**As we can see from the above pie chart percentage of female customers is 49.5% and male customer is 50.5%.**"
      ],
      "metadata": {
        "id": "vdN9tBdcAbzJ"
      }
    },
    {
      "cell_type": "code",
      "source": [
        "#to know the percentage of senior citizen we are using pie chart\n",
        "count= mydata['Senior Citizen'].value_counts()                           \n",
        "plt.pie(count,labels=['Other Citizen','Senior Citizen'], autopct='%1.1f%%')\n",
        "plt.title('Percentage of Senior Citizens')\n",
        "plt.legend()"
      ],
      "metadata": {
        "colab": {
          "base_uri": "https://localhost:8080/",
          "height": 281
        },
        "id": "pEoZE8MFA1Yu",
        "outputId": "ea77fec3-dff3-424b-e5f4-a9dfb7247ec3"
      },
      "execution_count": null,
      "outputs": [
        {
          "output_type": "execute_result",
          "data": {
            "text/plain": [
              "<matplotlib.legend.Legend at 0x7f86089efa90>"
            ]
          },
          "metadata": {},
          "execution_count": 5
        },
        {
          "output_type": "display_data",
          "data": {
            "text/plain": [
              "<Figure size 432x288 with 1 Axes>"
            ],
            "image/png": "[encoded data removed]"
          },
          "metadata": {}
        }
      ]
    },
    {
      "cell_type": "markdown",
      "source": [
        "**As we can see from the above pie chart percentage of senior citizens among the customers is 16.2% and remaining customers is 83.8%.**"
      ],
      "metadata": {
        "id": "DuUPO7aaB2MG"
      }
    },
    {
      "cell_type": "markdown",
      "source": [
        "##4.To examine the distribution of the tenure month column and explain the distribution."
      ],
      "metadata": {
        "id": "2JADR9zL3TnN"
      }
    },
    {
      "cell_type": "markdown",
      "source": [
        "To determine the distribution of Tenure Month we have used histgram which is very easy to plot and understand using matplotlib library."
      ],
      "metadata": {
        "id": "-ZSjfv4w7svb"
      }
    },
    {
      "cell_type": "code",
      "source": [
        "plt.hist(x='Tenure Months',data= mydata)      #using histogram to check distribution\n",
        "plt.title('Distribution of Tenure Month')     #title of the plot\n",
        "plt.xlabel('Tenure Months')                   #x-axis represents Tenure Months in number\n",
        "plt.ylabel('Number of customers')             #y-axis represents number of customers\n",
        "plt.show()"
      ],
      "metadata": {
        "id": "QLNiOfqKf7de",
        "colab": {
          "base_uri": "https://localhost:8080/",
          "height": 295
        },
        "outputId": "97701ad6-e61d-43a5-953a-6c6a3c4adfb9"
      },
      "execution_count": null,
      "outputs": [
        {
          "output_type": "display_data",
          "data": {
            "text/plain": [
              "<Figure size 432x288 with 1 Axes>"
            ],
            "image/png": "[encoded data removed]"
          },
          "metadata": {
            "needs_background": "light"
          }
        }
      ]
    },
    {
      "cell_type": "markdown",
      "source": [
        "**From above histogram we can see distribution is bimodal as we can see two different peak values.**"
      ],
      "metadata": {
        "id": "tlPziA73YuS4"
      }
    },
    {
      "cell_type": "markdown",
      "source": [
        ""
      ],
      "metadata": {
        "id": "TjMewhVbUkP2"
      }
    },
    {
      "cell_type": "markdown",
      "source": [
        "##5. To convert all binary columns into 0 and 1 using appropriate programming constructs, not one by one."
      ],
      "metadata": {
        "id": "7ChWaDs26qOd"
      }
    },
    {
      "cell_type": "code",
      "source": [
        "#To convert all binary columns into 0 and 1 we are using replace() function\n",
        "mydata_one = mydata.replace(['Male', 'Female','Yes','No','No internet services','No phone service'],['1','0','1','0','0','0'])\n",
        "mydata_one.head(5)\n"
      ],
      "metadata": {
        "id": "uKCKef63lUi8",
        "colab": {
          "base_uri": "https://localhost:8080/",
          "height": 438
        },
        "outputId": "f7427189-23d2-412d-ff78-aa4af56acae7"
      },
      "execution_count": null,
      "outputs": [
        {
          "output_type": "execute_result",
          "data": {
            "text/plain": [
              "   CustomerID  Count        Country       State         City  Zip Code  \\\n",
              "0  3668-QPYBK    1.0  United States  California  Los Angeles   90003.0   \n",
              "1  9237-HQITU    1.0  United States  California  Los Angeles   90005.0   \n",
              "2  9305-CDSKC    1.0  United States  California  Los Angeles   90006.0   \n",
              "3  7892-POOKP    1.0  United States  California  Los Angeles   90010.0   \n",
              "4  0280-XJGEX    1.0  United States  California  Los Angeles   90015.0   \n",
              "\n",
              "                 Lat Long   Latitude   Longitude Gender  ...        Contract  \\\n",
              "0  33.964131, -118.272783  33.964131 -118.272783      1  ...  Month-to-month   \n",
              "1   34.059281, -118.30742  34.059281 -118.307420      0  ...  Month-to-month   \n",
              "2  34.048013, -118.293953  34.048013 -118.293953      0  ...  Month-to-month   \n",
              "3  34.062125, -118.315709  34.062125 -118.315709      0  ...  Month-to-month   \n",
              "4  34.039224, -118.266293  34.039224 -118.266293      1  ...  Month-to-month   \n",
              "\n",
              "  Paperless Billing             Payment Method  Monthly Charges Total Charges  \\\n",
              "0                 1               Mailed check            53.85        108.15   \n",
              "1                 1           Electronic check            70.70        151.65   \n",
              "2                 1           Electronic check            99.65         820.5   \n",
              "3                 1           Electronic check           104.80       3046.05   \n",
              "4                 1  Bank transfer (automatic)           103.70        5036.3   \n",
              "\n",
              "  Churn Label Churn Value Churn Score    CLTV                   Churn Reason  \n",
              "0           1         1.0        86.0  3239.0   Competitor made better offer  \n",
              "1           1         1.0        67.0  2701.0                          Moved  \n",
              "2           1         1.0        86.0  5372.0                          Moved  \n",
              "3           1         1.0        84.0  5003.0                          Moved  \n",
              "4           1         1.0        89.0  5340.0  Competitor had better devices  \n",
              "\n",
              "[5 rows x 33 columns]"
            ],
            "text/html": [
              "\n",
              "  <div id=\"df-f4b71f1c-3152-4fbb-8a5d-19afbc013294\">\n",
              "    <div class=\"colab-df-container\">\n",
              "      <div>\n",
              "<style scoped>\n",
              "    .dataframe tbody tr th:only-of-type {\n",
              "        vertical-align: middle;\n",
              "    }\n",
              "\n",
              "    .dataframe tbody tr th {\n",
              "        vertical-align: top;\n",
              "    }\n",
              "\n",
              "    .dataframe thead th {\n",
              "        text-align: right;\n",
              "    }\n",
              "</style>\n",
              "<table border=\"1\" class=\"dataframe\">\n",
              "  <thead>\n",
              "    <tr style=\"text-align: right;\">\n",
              "      <th></th>\n",
              "      <th>CustomerID</th>\n",
              "      <th>Count</th>\n",
              "      <th>Country</th>\n",
              "      <th>State</th>\n",
              "      <th>City</th>\n",
              "      <th>Zip Code</th>\n",
              "      <th>Lat Long</th>\n",
              "      <th>Latitude</th>\n",
              "      <th>Longitude</th>\n",
              "      <th>Gender</th>\n",
              "      <th>...</th>\n",
              "      <th>Contract</th>\n",
              "      <th>Paperless Billing</th>\n",
              "      <th>Payment Method</th>\n",
              "      <th>Monthly Charges</th>\n",
              "      <th>Total Charges</th>\n",
              "      <th>Churn Label</th>\n",
              "      <th>Churn Value</th>\n",
              "      <th>Churn Score</th>\n",
              "      <th>CLTV</th>\n",
              "      <th>Churn Reason</th>\n",
              "    </tr>\n",
              "  </thead>\n",
              "  <tbody>\n",
              "    <tr>\n",
              "      <th>0</th>\n",
              "      <td>3668-QPYBK</td>\n",
              "      <td>1.0</td>\n",
              "      <td>United States</td>\n",
              "      <td>California</td>\n",
              "      <td>Los Angeles</td>\n",
              "      <td>90003.0</td>\n",
              "      <td>33.964131, -118.272783</td>\n",
              "      <td>33.964131</td>\n",
              "      <td>-118.272783</td>\n",
              "      <td>1</td>\n",
              "      <td>...</td>\n",
              "      <td>Month-to-month</td>\n",
              "      <td>1</td>\n",
              "      <td>Mailed check</td>\n",
              "      <td>53.85</td>\n",
              "      <td>108.15</td>\n",
              "      <td>1</td>\n",
              "      <td>1.0</td>\n",
              "      <td>86.0</td>\n",
              "      <td>3239.0</td>\n",
              "      <td>Competitor made better offer</td>\n",
              "    </tr>\n",
              "    <tr>\n",
              "      <th>1</th>\n",
              "      <td>9237-HQITU</td>\n",
              "      <td>1.0</td>\n",
              "      <td>United States</td>\n",
              "      <td>California</td>\n",
              "      <td>Los Angeles</td>\n",
              "      <td>90005.0</td>\n",
              "      <td>34.059281, -118.30742</td>\n",
              "      <td>34.059281</td>\n",
              "      <td>-118.307420</td>\n",
              "      <td>0</td>\n",
              "      <td>...</td>\n",
              "      <td>Month-to-month</td>\n",
              "      <td>1</td>\n",
              "      <td>Electronic check</td>\n",
              "      <td>70.70</td>\n",
              "      <td>151.65</td>\n",
              "      <td>1</td>\n",
              "      <td>1.0</td>\n",
              "      <td>67.0</td>\n",
              "      <td>2701.0</td>\n",
              "      <td>Moved</td>\n",
              "    </tr>\n",
              "    <tr>\n",
              "      <th>2</th>\n",
              "      <td>9305-CDSKC</td>\n",
              "      <td>1.0</td>\n",
              "      <td>United States</td>\n",
              "      <td>California</td>\n",
              "      <td>Los Angeles</td>\n",
              "      <td>90006.0</td>\n",
              "      <td>34.048013, -118.293953</td>\n",
              "      <td>34.048013</td>\n",
              "      <td>-118.293953</td>\n",
              "      <td>0</td>\n",
              "      <td>...</td>\n",
              "      <td>Month-to-month</td>\n",
              "      <td>1</td>\n",
              "      <td>Electronic check</td>\n",
              "      <td>99.65</td>\n",
              "      <td>820.5</td>\n",
              "      <td>1</td>\n",
              "      <td>1.0</td>\n",
              "      <td>86.0</td>\n",
              "      <td>5372.0</td>\n",
              "      <td>Moved</td>\n",
              "    </tr>\n",
              "    <tr>\n",
              "      <th>3</th>\n",
              "      <td>7892-POOKP</td>\n",
              "      <td>1.0</td>\n",
              "      <td>United States</td>\n",
              "      <td>California</td>\n",
              "      <td>Los Angeles</td>\n",
              "      <td>90010.0</td>\n",
              "      <td>34.062125, -118.315709</td>\n",
              "      <td>34.062125</td>\n",
              "      <td>-118.315709</td>\n",
              "      <td>0</td>\n",
              "      <td>...</td>\n",
              "      <td>Month-to-month</td>\n",
              "      <td>1</td>\n",
              "      <td>Electronic check</td>\n",
              "      <td>104.80</td>\n",
              "      <td>3046.05</td>\n",
              "      <td>1</td>\n",
              "      <td>1.0</td>\n",
              "      <td>84.0</td>\n",
              "      <td>5003.0</td>\n",
              "      <td>Moved</td>\n",
              "    </tr>\n",
              "    <tr>\n",
              "      <th>4</th>\n",
              "      <td>0280-XJGEX</td>\n",
              "      <td>1.0</td>\n",
              "      <td>United States</td>\n",
              "      <td>California</td>\n",
              "      <td>Los Angeles</td>\n",
              "      <td>90015.0</td>\n",
              "      <td>34.039224, -118.266293</td>\n",
              "      <td>34.039224</td>\n",
              "      <td>-118.266293</td>\n",
              "      <td>1</td>\n",
              "      <td>...</td>\n",
              "      <td>Month-to-month</td>\n",
              "      <td>1</td>\n",
              "      <td>Bank transfer (automatic)</td>\n",
              "      <td>103.70</td>\n",
              "      <td>5036.3</td>\n",
              "      <td>1</td>\n",
              "      <td>1.0</td>\n",
              "      <td>89.0</td>\n",
              "      <td>5340.0</td>\n",
              "      <td>Competitor had better devices</td>\n",
              "    </tr>\n",
              "  </tbody>\n",
              "</table>\n",
              "<p>5 rows × 33 columns</p>\n",
              "</div>\n",
              "      <button class=\"colab-df-convert\" onclick=\"convertToInteractive('df-f4b71f1c-3152-4fbb-8a5d-19afbc013294')\"\n",
              "              title=\"Convert this dataframe to an interactive table.\"\n",
              "              style=\"display:none;\">\n",
              "        \n",
              "  <svg xmlns=\"http://www.w3.org/2000/svg\" height=\"24px\"viewBox=\"0 0 24 24\"\n",
              "       width=\"24px\">\n",
              "    <path d=\"M0 0h24v24H0V0z\" fill=\"none\"/>\n",
              "    <path d=\"M18.56 5.44l.94 2.06.94-2.06 2.06-.94-2.06-.94-.94-2.06-.94 2.06-2.06.94zm-11 1L8.5 8.5l.94-2.06 2.06-.94-2.06-.94L8.5 2.5l-.94 2.06-2.06.94zm10 10l.94 2.06.94-2.06 2.06-.94-2.06-.94-.94-2.06-.94 2.06-2.06.94z\"/><path d=\"M17.41 7.96l-1.37-1.37c-.4-.4-.92-.59-1.43-.59-.52 0-1.04.2-1.43.59L10.3 9.45l-7.72 7.72c-.78.78-.78 2.05 0 2.83L4 21.41c.39.39.9.59 1.41.59.51 0 1.02-.2 1.41-.59l7.78-7.78 2.81-2.81c.8-.78.8-2.07 0-2.86zM5.41 20L4 18.59l7.72-7.72 1.47 1.35L5.41 20z\"/>\n",
              "  </svg>\n",
              "      </button>\n",
              "      \n",
              "  <style>\n",
              "    .colab-df-container {\n",
              "      display:flex;\n",
              "      flex-wrap:wrap;\n",
              "      gap: 12px;\n",
              "    }\n",
              "\n",
              "    .colab-df-convert {\n",
              "      background-color: #E8F0FE;\n",
              "      border: none;\n",
              "      border-radius: 50%;\n",
              "      cursor: pointer;\n",
              "      display: none;\n",
              "      fill: #1967D2;\n",
              "      height: 32px;\n",
              "      padding: 0 0 0 0;\n",
              "      width: 32px;\n",
              "    }\n",
              "\n",
              "    .colab-df-convert:hover {\n",
              "      background-color: #E2EBFA;\n",
              "      box-shadow: 0px 1px 2px rgba(60, 64, 67, 0.3), 0px 1px 3px 1px rgba(60, 64, 67, 0.15);\n",
              "      fill: #174EA6;\n",
              "    }\n",
              "\n",
              "    [theme=dark] .colab-df-convert {\n",
              "      background-color: #3B4455;\n",
              "      fill: #D2E3FC;\n",
              "    }\n",
              "\n",
              "    [theme=dark] .colab-df-convert:hover {\n",
              "      background-color: #434B5C;\n",
              "      box-shadow: 0px 1px 3px 1px rgba(0, 0, 0, 0.15);\n",
              "      filter: drop-shadow(0px 1px 2px rgba(0, 0, 0, 0.3));\n",
              "      fill: #FFFFFF;\n",
              "    }\n",
              "  </style>\n",
              "\n",
              "      <script>\n",
              "        const buttonEl =\n",
              "          document.querySelector('#df-f4b71f1c-3152-4fbb-8a5d-19afbc013294 button.colab-df-convert');\n",
              "        buttonEl.style.display =\n",
              "          google.colab.kernel.accessAllowed ? 'block' : 'none';\n",
              "\n",
              "        async function convertToInteractive(key) {\n",
              "          const element = document.querySelector('#df-f4b71f1c-3152-4fbb-8a5d-19afbc013294');\n",
              "          const dataTable =\n",
              "            await google.colab.kernel.invokeFunction('convertToInteractive',\n",
              "                                                     [key], {});\n",
              "          if (!dataTable) return;\n",
              "\n",
              "          const docLinkHtml = 'Like what you see? Visit the ' +\n",
              "            '<a target=\"_blank\" href=https://colab.research.google.com/notebooks/data_table.ipynb>data table notebook</a>'\n",
              "            + ' to learn more about interactive tables.';\n",
              "          element.innerHTML = '';\n",
              "          dataTable['output_type'] = 'display_data';\n",
              "          await google.colab.output.renderOutput(dataTable, element);\n",
              "          const docLink = document.createElement('div');\n",
              "          docLink.innerHTML = docLinkHtml;\n",
              "          element.appendChild(docLink);\n",
              "        }\n",
              "      </script>\n",
              "    </div>\n",
              "  </div>\n",
              "  "
            ]
          },
          "metadata": {},
          "execution_count": 13
        }
      ]
    },
    {
      "cell_type": "markdown",
      "source": [
        "##6. Examine the distribution of monthly charges between males and females using box plots. Please explain the results also."
      ],
      "metadata": {
        "id": "Dr25i5c7rZIn"
      }
    },
    {
      "cell_type": "code",
      "source": [
        "sns.set_style(\"whitegrid\")\n",
        "sns.boxplot(x='Gender', y= 'Monthly Charges', data = mydata)     #using boxplot to check distribution, we have taken x='Gender'and y= 'Monthly Charges'\n",
        "plt.xlabel('Gender')                                      \n",
        "plt.ylabel('Monthly Charges')"
      ],
      "metadata": {
        "colab": {
          "base_uri": "https://localhost:8080/",
          "height": 296
        },
        "id": "dcXMJbFwb1Fq",
        "outputId": "ed9a463a-e0a7-4d48-b4f7-dd3bbbc6cb63"
      },
      "execution_count": null,
      "outputs": [
        {
          "output_type": "execute_result",
          "data": {
            "text/plain": [
              "Text(0, 0.5, 'Monthly Charges')"
            ]
          },
          "metadata": {},
          "execution_count": 16
        },
        {
          "output_type": "display_data",
          "data": {
            "text/plain": [
              "<Figure size 432x288 with 1 Axes>"
            ],
            "image/png": "[encoded data removed]"
          },
          "metadata": {}
        }
      ]
    },
    {
      "cell_type": "markdown",
      "source": [
        "**From the above boxplot we can see that there is almost same distribution of min, max and avg monthy charge.**"
      ],
      "metadata": {
        "id": "EdVWw14B9Hxn"
      }
    },
    {
      "cell_type": "markdown",
      "source": [
        "##7. To find minimum total charges for Los Angeles city and which zip code has the maximum total charges."
      ],
      "metadata": {
        "id": "82m1f9Tcb01d"
      }
    },
    {
      "cell_type": "code",
      "source": [
        "#To answer above question we have to change datatype of Total charges from Object to Float as python is reading it incorrectly\n",
        "mydata['Total Charges'] = pd.to_numeric(mydata['Total Charges'],errors='coerce')     #converting datatype of column Total Charges to float\n",
        "mydata['Total Charges'] = mydata['Total Charges'].astype(\"float\")"
      ],
      "metadata": {
        "id": "9Y3BJAO_bdaA"
      },
      "execution_count": null,
      "outputs": []
    },
    {
      "cell_type": "code",
      "source": [
        "# Subsetting Los Angeles city first\n",
        "mydata_Los_Angeles = mydata[mydata[\"City\"] == 'Los Angeles']  \n",
        "mydata_Los_Angeles.head(5)   #exploring head values "
      ],
      "metadata": {
        "colab": {
          "base_uri": "https://localhost:8080/",
          "height": 438
        },
        "id": "IyYY7P-T_da6",
        "outputId": "51d96a59-60c6-471d-a2d0-9b5fdcf17403"
      },
      "execution_count": null,
      "outputs": [
        {
          "output_type": "execute_result",
          "data": {
            "text/plain": [
              "   CustomerID  Count        Country       State         City  Zip Code  \\\n",
              "0  3668-QPYBK    1.0  United States  California  Los Angeles   90003.0   \n",
              "1  9237-HQITU    1.0  United States  California  Los Angeles   90005.0   \n",
              "2  9305-CDSKC    1.0  United States  California  Los Angeles   90006.0   \n",
              "3  7892-POOKP    1.0  United States  California  Los Angeles   90010.0   \n",
              "4  0280-XJGEX    1.0  United States  California  Los Angeles   90015.0   \n",
              "\n",
              "                 Lat Long   Latitude   Longitude  Gender  ...        Contract  \\\n",
              "0  33.964131, -118.272783  33.964131 -118.272783    Male  ...  Month-to-month   \n",
              "1   34.059281, -118.30742  34.059281 -118.307420  Female  ...  Month-to-month   \n",
              "2  34.048013, -118.293953  34.048013 -118.293953  Female  ...  Month-to-month   \n",
              "3  34.062125, -118.315709  34.062125 -118.315709  Female  ...  Month-to-month   \n",
              "4  34.039224, -118.266293  34.039224 -118.266293    Male  ...  Month-to-month   \n",
              "\n",
              "  Paperless Billing             Payment Method  Monthly Charges Total Charges  \\\n",
              "0               Yes               Mailed check            53.85        108.15   \n",
              "1               Yes           Electronic check            70.70        151.65   \n",
              "2               Yes           Electronic check            99.65        820.50   \n",
              "3               Yes           Electronic check           104.80       3046.05   \n",
              "4               Yes  Bank transfer (automatic)           103.70       5036.30   \n",
              "\n",
              "  Churn Label Churn Value Churn Score    CLTV                   Churn Reason  \n",
              "0         Yes         1.0        86.0  3239.0   Competitor made better offer  \n",
              "1         Yes         1.0        67.0  2701.0                          Moved  \n",
              "2         Yes         1.0        86.0  5372.0                          Moved  \n",
              "3         Yes         1.0        84.0  5003.0                          Moved  \n",
              "4         Yes         1.0        89.0  5340.0  Competitor had better devices  \n",
              "\n",
              "[5 rows x 33 columns]"
            ],
            "text/html": [
              "\n",
              "  <div id=\"df-c18ce0d4-2023-47cb-9b3e-19fc2bde0373\">\n",
              "    <div class=\"colab-df-container\">\n",
              "      <div>\n",
              "<style scoped>\n",
              "    .dataframe tbody tr th:only-of-type {\n",
              "        vertical-align: middle;\n",
              "    }\n",
              "\n",
              "    .dataframe tbody tr th {\n",
              "        vertical-align: top;\n",
              "    }\n",
              "\n",
              "    .dataframe thead th {\n",
              "        text-align: right;\n",
              "    }\n",
              "</style>\n",
              "<table border=\"1\" class=\"dataframe\">\n",
              "  <thead>\n",
              "    <tr style=\"text-align: right;\">\n",
              "      <th></th>\n",
              "      <th>CustomerID</th>\n",
              "      <th>Count</th>\n",
              "      <th>Country</th>\n",
              "      <th>State</th>\n",
              "      <th>City</th>\n",
              "      <th>Zip Code</th>\n",
              "      <th>Lat Long</th>\n",
              "      <th>Latitude</th>\n",
              "      <th>Longitude</th>\n",
              "      <th>Gender</th>\n",
              "      <th>...</th>\n",
              "      <th>Contract</th>\n",
              "      <th>Paperless Billing</th>\n",
              "      <th>Payment Method</th>\n",
              "      <th>Monthly Charges</th>\n",
              "      <th>Total Charges</th>\n",
              "      <th>Churn Label</th>\n",
              "      <th>Churn Value</th>\n",
              "      <th>Churn Score</th>\n",
              "      <th>CLTV</th>\n",
              "      <th>Churn Reason</th>\n",
              "    </tr>\n",
              "  </thead>\n",
              "  <tbody>\n",
              "    <tr>\n",
              "      <th>0</th>\n",
              "      <td>3668-QPYBK</td>\n",
              "      <td>1.0</td>\n",
              "      <td>United States</td>\n",
              "      <td>California</td>\n",
              "      <td>Los Angeles</td>\n",
              "      <td>90003.0</td>\n",
              "      <td>33.964131, -118.272783</td>\n",
              "      <td>33.964131</td>\n",
              "      <td>-118.272783</td>\n",
              "      <td>Male</td>\n",
              "      <td>...</td>\n",
              "      <td>Month-to-month</td>\n",
              "      <td>Yes</td>\n",
              "      <td>Mailed check</td>\n",
              "      <td>53.85</td>\n",
              "      <td>108.15</td>\n",
              "      <td>Yes</td>\n",
              "      <td>1.0</td>\n",
              "      <td>86.0</td>\n",
              "      <td>3239.0</td>\n",
              "      <td>Competitor made better offer</td>\n",
              "    </tr>\n",
              "    <tr>\n",
              "      <th>1</th>\n",
              "      <td>9237-HQITU</td>\n",
              "      <td>1.0</td>\n",
              "      <td>United States</td>\n",
              "      <td>California</td>\n",
              "      <td>Los Angeles</td>\n",
              "      <td>90005.0</td>\n",
              "      <td>34.059281, -118.30742</td>\n",
              "      <td>34.059281</td>\n",
              "      <td>-118.307420</td>\n",
              "      <td>Female</td>\n",
              "      <td>...</td>\n",
              "      <td>Month-to-month</td>\n",
              "      <td>Yes</td>\n",
              "      <td>Electronic check</td>\n",
              "      <td>70.70</td>\n",
              "      <td>151.65</td>\n",
              "      <td>Yes</td>\n",
              "      <td>1.0</td>\n",
              "      <td>67.0</td>\n",
              "      <td>2701.0</td>\n",
              "      <td>Moved</td>\n",
              "    </tr>\n",
              "    <tr>\n",
              "      <th>2</th>\n",
              "      <td>9305-CDSKC</td>\n",
              "      <td>1.0</td>\n",
              "      <td>United States</td>\n",
              "      <td>California</td>\n",
              "      <td>Los Angeles</td>\n",
              "      <td>90006.0</td>\n",
              "      <td>34.048013, -118.293953</td>\n",
              "      <td>34.048013</td>\n",
              "      <td>-118.293953</td>\n",
              "      <td>Female</td>\n",
              "      <td>...</td>\n",
              "      <td>Month-to-month</td>\n",
              "      <td>Yes</td>\n",
              "      <td>Electronic check</td>\n",
              "      <td>99.65</td>\n",
              "      <td>820.50</td>\n",
              "      <td>Yes</td>\n",
              "      <td>1.0</td>\n",
              "      <td>86.0</td>\n",
              "      <td>5372.0</td>\n",
              "      <td>Moved</td>\n",
              "    </tr>\n",
              "    <tr>\n",
              "      <th>3</th>\n",
              "      <td>7892-POOKP</td>\n",
              "      <td>1.0</td>\n",
              "      <td>United States</td>\n",
              "      <td>California</td>\n",
              "      <td>Los Angeles</td>\n",
              "      <td>90010.0</td>\n",
              "      <td>34.062125, -118.315709</td>\n",
              "      <td>34.062125</td>\n",
              "      <td>-118.315709</td>\n",
              "      <td>Female</td>\n",
              "      <td>...</td>\n",
              "      <td>Month-to-month</td>\n",
              "      <td>Yes</td>\n",
              "      <td>Electronic check</td>\n",
              "      <td>104.80</td>\n",
              "      <td>3046.05</td>\n",
              "      <td>Yes</td>\n",
              "      <td>1.0</td>\n",
              "      <td>84.0</td>\n",
              "      <td>5003.0</td>\n",
              "      <td>Moved</td>\n",
              "    </tr>\n",
              "    <tr>\n",
              "      <th>4</th>\n",
              "      <td>0280-XJGEX</td>\n",
              "      <td>1.0</td>\n",
              "      <td>United States</td>\n",
              "      <td>California</td>\n",
              "      <td>Los Angeles</td>\n",
              "      <td>90015.0</td>\n",
              "      <td>34.039224, -118.266293</td>\n",
              "      <td>34.039224</td>\n",
              "      <td>-118.266293</td>\n",
              "      <td>Male</td>\n",
              "      <td>...</td>\n",
              "      <td>Month-to-month</td>\n",
              "      <td>Yes</td>\n",
              "      <td>Bank transfer (automatic)</td>\n",
              "      <td>103.70</td>\n",
              "      <td>5036.30</td>\n",
              "      <td>Yes</td>\n",
              "      <td>1.0</td>\n",
              "      <td>89.0</td>\n",
              "      <td>5340.0</td>\n",
              "      <td>Competitor had better devices</td>\n",
              "    </tr>\n",
              "  </tbody>\n",
              "</table>\n",
              "<p>5 rows × 33 columns</p>\n",
              "</div>\n",
              "      <button class=\"colab-df-convert\" onclick=\"convertToInteractive('df-c18ce0d4-2023-47cb-9b3e-19fc2bde0373')\"\n",
              "              title=\"Convert this dataframe to an interactive table.\"\n",
              "              style=\"display:none;\">\n",
              "        \n",
              "  <svg xmlns=\"http://www.w3.org/2000/svg\" height=\"24px\"viewBox=\"0 0 24 24\"\n",
              "       width=\"24px\">\n",
              "    <path d=\"M0 0h24v24H0V0z\" fill=\"none\"/>\n",
              "    <path d=\"M18.56 5.44l.94 2.06.94-2.06 2.06-.94-2.06-.94-.94-2.06-.94 2.06-2.06.94zm-11 1L8.5 8.5l.94-2.06 2.06-.94-2.06-.94L8.5 2.5l-.94 2.06-2.06.94zm10 10l.94 2.06.94-2.06 2.06-.94-2.06-.94-.94-2.06-.94 2.06-2.06.94z\"/><path d=\"M17.41 7.96l-1.37-1.37c-.4-.4-.92-.59-1.43-.59-.52 0-1.04.2-1.43.59L10.3 9.45l-7.72 7.72c-.78.78-.78 2.05 0 2.83L4 21.41c.39.39.9.59 1.41.59.51 0 1.02-.2 1.41-.59l7.78-7.78 2.81-2.81c.8-.78.8-2.07 0-2.86zM5.41 20L4 18.59l7.72-7.72 1.47 1.35L5.41 20z\"/>\n",
              "  </svg>\n",
              "      </button>\n",
              "      \n",
              "  <style>\n",
              "    .colab-df-container {\n",
              "      display:flex;\n",
              "      flex-wrap:wrap;\n",
              "      gap: 12px;\n",
              "    }\n",
              "\n",
              "    .colab-df-convert {\n",
              "      background-color: #E8F0FE;\n",
              "      border: none;\n",
              "      border-radius: 50%;\n",
              "      cursor: pointer;\n",
              "      display: none;\n",
              "      fill: #1967D2;\n",
              "      height: 32px;\n",
              "      padding: 0 0 0 0;\n",
              "      width: 32px;\n",
              "    }\n",
              "\n",
              "    .colab-df-convert:hover {\n",
              "      background-color: #E2EBFA;\n",
              "      box-shadow: 0px 1px 2px rgba(60, 64, 67, 0.3), 0px 1px 3px 1px rgba(60, 64, 67, 0.15);\n",
              "      fill: #174EA6;\n",
              "    }\n",
              "\n",
              "    [theme=dark] .colab-df-convert {\n",
              "      background-color: #3B4455;\n",
              "      fill: #D2E3FC;\n",
              "    }\n",
              "\n",
              "    [theme=dark] .colab-df-convert:hover {\n",
              "      background-color: #434B5C;\n",
              "      box-shadow: 0px 1px 3px 1px rgba(0, 0, 0, 0.15);\n",
              "      filter: drop-shadow(0px 1px 2px rgba(0, 0, 0, 0.3));\n",
              "      fill: #FFFFFF;\n",
              "    }\n",
              "  </style>\n",
              "\n",
              "      <script>\n",
              "        const buttonEl =\n",
              "          document.querySelector('#df-c18ce0d4-2023-47cb-9b3e-19fc2bde0373 button.colab-df-convert');\n",
              "        buttonEl.style.display =\n",
              "          google.colab.kernel.accessAllowed ? 'block' : 'none';\n",
              "\n",
              "        async function convertToInteractive(key) {\n",
              "          const element = document.querySelector('#df-c18ce0d4-2023-47cb-9b3e-19fc2bde0373');\n",
              "          const dataTable =\n",
              "            await google.colab.kernel.invokeFunction('convertToInteractive',\n",
              "                                                     [key], {});\n",
              "          if (!dataTable) return;\n",
              "\n",
              "          const docLinkHtml = 'Like what you see? Visit the ' +\n",
              "            '<a target=\"_blank\" href=https://colab.research.google.com/notebooks/data_table.ipynb>data table notebook</a>'\n",
              "            + ' to learn more about interactive tables.';\n",
              "          element.innerHTML = '';\n",
              "          dataTable['output_type'] = 'display_data';\n",
              "          await google.colab.output.renderOutput(dataTable, element);\n",
              "          const docLink = document.createElement('div');\n",
              "          docLink.innerHTML = docLinkHtml;\n",
              "          element.appendChild(docLink);\n",
              "        }\n",
              "      </script>\n",
              "    </div>\n",
              "  </div>\n",
              "  "
            ]
          },
          "metadata": {},
          "execution_count": 49
        }
      ]
    },
    {
      "cell_type": "code",
      "source": [
        "#To find out the min Total Charges for Los Angeles\n",
        "mydata_Los_Angeles['Total Charges'].min()"
      ],
      "metadata": {
        "colab": {
          "base_uri": "https://localhost:8080/"
        },
        "id": "J-MbecuJZgCE",
        "outputId": "b11f6388-7d84-482a-8721-8e6e46f97d13"
      },
      "execution_count": null,
      "outputs": [
        {
          "output_type": "execute_result",
          "data": {
            "text/plain": [
              "18.8"
            ]
          },
          "metadata": {},
          "execution_count": 50
        }
      ]
    },
    {
      "cell_type": "markdown",
      "source": [
        "**From above we can see that min Total Charges for Los Angeles City is 18.8**"
      ],
      "metadata": {
        "id": "JvI-ZX6dc9_l"
      }
    },
    {
      "cell_type": "code",
      "source": [
        "#To find out which zip code has the maximum Total Charges\n",
        "mydata['Zip Code'][mydata['Total Charges']== mydata['Total Charges'].max()]               #we have filtered Total charges to max and then subsetting it using zip code"
      ],
      "metadata": {
        "colab": {
          "base_uri": "https://localhost:8080/"
        },
        "id": "xUHlNrXyeLIc",
        "outputId": "cc4ff1d7-e805-4ba7-d030-e4109aa66af1"
      },
      "execution_count": null,
      "outputs": [
        {
          "output_type": "execute_result",
          "data": {
            "text/plain": [
              "1206    95519.0\n",
              "Name: Zip Code, dtype: float64"
            ]
          },
          "metadata": {},
          "execution_count": 63
        }
      ]
    },
    {
      "cell_type": "markdown",
      "source": [
        " **95519 this zip code have maximum total charges.**"
      ],
      "metadata": {
        "id": "Ps-LEaYLiNKZ"
      }
    },
    {
      "cell_type": "markdown",
      "source": [
        "##8. To find which payment method has the highest churn score and which has the lowest churn score."
      ],
      "metadata": {
        "id": "vU-qp9Kp_dEm"
      }
    },
    {
      "cell_type": "code",
      "source": [
        "#using boxplot to compare payment methods\n",
        "sns.set_style(\"whitegrid\")\n",
        "sns.boxplot(y='Payment Method', x= 'Churn Score', data = mydata)     #using boxplot to check, we have taken y='Payment Method', x= 'Churn Score'\n",
        "plt.ylabel('Payment Method')                                      \n",
        "plt.xlabel('Churn Score')"
      ],
      "metadata": {
        "colab": {
          "base_uri": "https://localhost:8080/",
          "height": 296
        },
        "id": "AilibiBGCpKn",
        "outputId": "541f3f51-1975-4ef4-ad83-990d34c425b9"
      },
      "execution_count": null,
      "outputs": [
        {
          "output_type": "execute_result",
          "data": {
            "text/plain": [
              "Text(0.5, 0, 'Churn Score')"
            ]
          },
          "metadata": {},
          "execution_count": 47
        },
        {
          "output_type": "display_data",
          "data": {
            "text/plain": [
              "<Figure size 432x288 with 1 Axes>"
            ],
            "image/png": "[encoded data removed]"
          },
          "metadata": {}
        }
      ]
    },
    {
      "cell_type": "markdown",
      "source": [
        "**From above boxplot we can see that Electronic check has the highest churn score i.e. the customers who pays bills using electronic checks are most likely to churn. The Mailed check and the Credit card payment methods have almost same i.e. lowest churn score among all payemnt methods.**"
      ],
      "metadata": {
        "id": "oWtVr6ZOD_Sf"
      }
    },
    {
      "cell_type": "markdown",
      "source": [
        "##9. To create an appropriate plot to check the count of payment methods and explain it."
      ],
      "metadata": {
        "id": "1ea3p1Tu-0XO"
      }
    },
    {
      "cell_type": "code",
      "source": [
        "sns.countplot(y=\"Payment Method\", data = mydata) #using countplot to find different payment modes\n",
        "plt.ylabel(\"Payment Method\")        #different payment mode\n",
        "plt.xlabel(\"Number of customers\")      #number of customers who are using different payemnt methods\n",
        "plt.show() "
      ],
      "metadata": {
        "colab": {
          "base_uri": "https://localhost:8080/",
          "height": 279
        },
        "id": "R5_6p2D6GltH",
        "outputId": "114fe3c2-9e5c-45b8-c771-419d1070e318"
      },
      "execution_count": null,
      "outputs": [
        {
          "output_type": "display_data",
          "data": {
            "text/plain": [
              "<Figure size 432x288 with 1 Axes>"
            ],
            "image/png": "[encoded data removed]"
          },
          "metadata": {
            "needs_background": "light"
          }
        }
      ]
    },
    {
      "cell_type": "code",
      "source": [
        "mydata[\"Payment Method\"].nunique()        #count of the differnet payment methods\n"
      ],
      "metadata": {
        "id": "S7sprsf3VTwz",
        "colab": {
          "base_uri": "https://localhost:8080/"
        },
        "outputId": "23a7b329-5ad3-4db9-87c5-dc78d0aeb2f4"
      },
      "execution_count": null,
      "outputs": [
        {
          "output_type": "execute_result",
          "data": {
            "text/plain": [
              "4"
            ]
          },
          "metadata": {},
          "execution_count": 16
        }
      ]
    },
    {
      "cell_type": "code",
      "source": [
        "mydata[\"Payment Method\"].unique()       #different types of payement methods"
      ],
      "metadata": {
        "id": "m3DCOtw-VqJL",
        "colab": {
          "base_uri": "https://localhost:8080/"
        },
        "outputId": "95d3d079-0052-489b-d07c-f67b4cbaa46b"
      },
      "execution_count": null,
      "outputs": [
        {
          "output_type": "execute_result",
          "data": {
            "text/plain": [
              "array(['Mailed check', 'Electronic check', 'Bank transfer (automatic)',\n",
              "       'Credit card (automatic)'], dtype=object)"
            ]
          },
          "metadata": {},
          "execution_count": 17
        }
      ]
    },
    {
      "cell_type": "code",
      "source": [
        "group_by_Payment_Method = mydata.groupby('Payment Method')                                                 \n",
        "group_by_Payment_Method.size()                      #to check the count for each payment method"
      ],
      "metadata": {
        "id": "zrOegjw0Hnwx",
        "colab": {
          "base_uri": "https://localhost:8080/"
        },
        "outputId": "382f310f-77b6-4e99-d259-6c8d35a262b5"
      },
      "execution_count": null,
      "outputs": [
        {
          "output_type": "execute_result",
          "data": {
            "text/plain": [
              "Payment Method\n",
              "Bank transfer (automatic)    1544\n",
              "Credit card (automatic)      1522\n",
              "Electronic check             2365\n",
              "Mailed check                 1612\n",
              "dtype: int64"
            ]
          },
          "metadata": {},
          "execution_count": 18
        }
      ]
    },
    {
      "cell_type": "markdown",
      "source": [
        "**From above we can see that there are four different payment methods i.e. Bank transfer (automatic),Credit card (automatic), Electronic check and mailed check. And Among all the payment methods number of customers using Electronic check payment is high.**"
      ],
      "metadata": {
        "id": "WPC-tEYFKXHg"
      }
    },
    {
      "cell_type": "markdown",
      "source": [
        "##10. To create an appropriate plot to see the relationship between monthly charges and total charges."
      ],
      "metadata": {
        "id": "eOm5ElB8K4PM"
      }
    },
    {
      "cell_type": "code",
      "source": [
        "#using scatterplot to find out relationship between monthly charges and total charges \n",
        "\n",
        "sns.scatterplot(x=\"Monthly Charges\",y=\"Total Charges\", data=mydata)\n"
      ],
      "metadata": {
        "colab": {
          "base_uri": "https://localhost:8080/",
          "height": 296
        },
        "id": "_U375VtmMZQV",
        "outputId": "a0e80743-5814-42b7-c540-d788496ccb71"
      },
      "execution_count": null,
      "outputs": [
        {
          "output_type": "execute_result",
          "data": {
            "text/plain": [
              "<matplotlib.axes._subplots.AxesSubplot at 0x7f575efec250>"
            ]
          },
          "metadata": {},
          "execution_count": 118
        },
        {
          "output_type": "display_data",
          "data": {
            "text/plain": [
              "<Figure size 432x288 with 1 Axes>"
            ],
            "image/png": "[encoded data removed]"
          },
          "metadata": {}
        }
      ]
    },
    {
      "cell_type": "markdown",
      "source": [
        "**The above scatterplot we can see that as the montly charges increases total charges also increases. It shows positive corelation among the both.**"
      ],
      "metadata": {
        "id": "HTXyDqo4lKuD"
      }
    },
    {
      "cell_type": "markdown",
      "source": [
        "##***Conclusion***\n"
      ],
      "metadata": {
        "id": "T2LioayqSVuC"
      }
    }
  ]
}